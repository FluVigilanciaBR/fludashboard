{
 "cells": [
  {
   "cell_type": "code",
   "execution_count": 1,
   "metadata": {},
   "outputs": [],
   "source": [
    "from fludashboard import settings\n",
    "from fludashboard.libs import episem\n",
    "from numpy import ceil\n",
    "from plotly import tools\n",
    "from plotly.offline import download_plotlyjs, init_notebook_mode, plot, iplot\n",
    "\n",
    "import fludashboard as flud\n",
    "import pandas as pd\n",
    "import sqlalchemy as sqla\n",
    "import plotly.graph_objs as go\n",
    "import colorlover as cl"
   ]
  },
  {
   "cell_type": "code",
   "execution_count": 2,
   "metadata": {},
   "outputs": [
    {
     "data": {
      "text/html": [
       "<script>requirejs.config({paths: { 'plotly': ['https://cdn.plot.ly/plotly-latest.min']},});if(!window.Plotly) {{require(['plotly'],function(plotly) {window.Plotly=plotly;});}}</script>"
      ],
      "text/vnd.plotly.v1+html": [
       "<script>requirejs.config({paths: { 'plotly': ['https://cdn.plot.ly/plotly-latest.min']},});if(!window.Plotly) {{require(['plotly'],function(plotly) {window.Plotly=plotly;});}}</script>"
      ]
     },
     "metadata": {},
     "output_type": "display_data"
    }
   ],
   "source": [
    "init_notebook_mode(connected=True)\n",
    "dsn = 'postgresql://%(USER)s:%(PASSWORD)s@%(HOST)s/%(NAME)s'\n",
    "engine = sqla.create_engine(dsn % settings.DATABASE)\n",
    "\n",
    "def ethiological_timeseries(scale_id=int, year=int, week=None, territory_id=None):\n",
    "    \"\"\"\n",
    "    Generate timeseries for each ethiological agent and other relevant lab data\n",
    "    \n",
    "    :param scale_id: Incidence (0) or cases (1)\n",
    "    :param year: epidemiological year\n",
    "    :param week: epidemiological week or all (0)\n",
    "    :param territory_id:\n",
    "    \"\"\"\n",
    "    \n",
    "    sql_param = {\n",
    "        'epiweek': week,\n",
    "        'epiyear': year,\n",
    "        'territory_id': territory_id,\n",
    "        'scale_id': scale_id\n",
    "    }\n",
    "    \n",
    "    if week == None or week == 0:\n",
    "        sql_param['epiweek'] = 53\n",
    "    if territory_id == None:\n",
    "        sql_param['territory_id'] = 0\n",
    "    \n",
    "    sql = '''\n",
    "    SELECT\n",
    "        notification.epiweek AS epiweek,\n",
    "        notification.positive_cases AS \"Testes positivos\",\n",
    "        notification.flu_a AS \"Influenza A\",\n",
    "        notification.flu_b AS \"Influenza B\",\n",
    "        notification.vsr AS \"VSR\",\n",
    "        notification.\"ADNO\" AS \"Adenovirus\",\n",
    "        notification.\"PARA1\" AS \"Parainfluenza 1\",\n",
    "        notification.\"PARA2\" AS \"Parainfluenza 2\",\n",
    "        notification.\"PARA3\" AS \"Parainfluenza 3\",\n",
    "        notification.negative AS \"Testes negativos\",\n",
    "        notification.not_tested AS \"Casos sem teste laboratorial\",\n",
    "        notification.delayed AS \"Casos aguardando resultado\",\n",
    "        notification.testing_ignored AS \"Casos sem informação laboratorial\",\n",
    "        territory.name AS territory_name\n",
    "    FROM\n",
    "        (SELECT \n",
    "            epiweek,\n",
    "            epiyear,\n",
    "            dataset_id,\n",
    "            scale_id,\n",
    "            gender,\n",
    "            positive_cases,\n",
    "            flu_a,\n",
    "            flu_b,\n",
    "            vsr,\n",
    "            \"ADNO\",\n",
    "            \"PARA1\",\n",
    "            \"PARA2\",\n",
    "            \"PARA3\",\n",
    "            negative,\n",
    "            not_tested,\n",
    "            delayed,\n",
    "            testing_ignored,\n",
    "            territory_id\n",
    "        FROM\n",
    "            clean_data_epiweek_weekly_incidence_w_situation\n",
    "        WHERE\n",
    "            epiyear=%(epiyear)s\n",
    "            AND dataset_id=1\n",
    "            AND territory_id=%(territory_id)s\n",
    "            AND scale_id=%(scale_id)s\n",
    "            AND gender='Total'\n",
    "            AND epiweek <= %(epiweek)s\n",
    "        ) as notification\n",
    "        LEFT JOIN territory\n",
    "            ON (notification.territory_id=territory.id)\n",
    "        WHERE 1=1\n",
    "    ORDER BY epiweek\n",
    "    ''' % sql_param\n",
    "\n",
    "    with engine.connect() as conn:\n",
    "        return pd.read_sql(sql, conn)"
   ]
  },
  {
   "cell_type": "code",
   "execution_count": 3,
   "metadata": {},
   "outputs": [
    {
     "data": {
      "text/html": [
       "<div>\n",
       "<style scoped>\n",
       "    .dataframe tbody tr th:only-of-type {\n",
       "        vertical-align: middle;\n",
       "    }\n",
       "\n",
       "    .dataframe tbody tr th {\n",
       "        vertical-align: top;\n",
       "    }\n",
       "\n",
       "    .dataframe thead th {\n",
       "        text-align: right;\n",
       "    }\n",
       "</style>\n",
       "<table border=\"1\" class=\"dataframe\">\n",
       "  <thead>\n",
       "    <tr style=\"text-align: right;\">\n",
       "      <th></th>\n",
       "      <th>epiweek</th>\n",
       "      <th>Testes positivos</th>\n",
       "      <th>Influenza A</th>\n",
       "      <th>Influenza B</th>\n",
       "      <th>VSR</th>\n",
       "      <th>Adenovirus</th>\n",
       "      <th>Parainfluenza 1</th>\n",
       "      <th>Parainfluenza 2</th>\n",
       "      <th>Parainfluenza 3</th>\n",
       "      <th>Testes negativos</th>\n",
       "      <th>Casos sem teste laboratorial</th>\n",
       "      <th>Casos aguardando resultado</th>\n",
       "      <th>Casos sem informação laboratorial</th>\n",
       "      <th>territory_name</th>\n",
       "    </tr>\n",
       "  </thead>\n",
       "  <tbody>\n",
       "    <tr>\n",
       "      <th>0</th>\n",
       "      <td>1</td>\n",
       "      <td>3.0</td>\n",
       "      <td>1.0</td>\n",
       "      <td>1.0</td>\n",
       "      <td>0.0</td>\n",
       "      <td>0.0</td>\n",
       "      <td>0.0</td>\n",
       "      <td>0.0</td>\n",
       "      <td>1.0</td>\n",
       "      <td>18.0</td>\n",
       "      <td>1.0</td>\n",
       "      <td>0.0</td>\n",
       "      <td>4.0</td>\n",
       "      <td>Rio Grande do Sul</td>\n",
       "    </tr>\n",
       "    <tr>\n",
       "      <th>1</th>\n",
       "      <td>2</td>\n",
       "      <td>1.0</td>\n",
       "      <td>0.0</td>\n",
       "      <td>0.0</td>\n",
       "      <td>0.0</td>\n",
       "      <td>1.0</td>\n",
       "      <td>0.0</td>\n",
       "      <td>0.0</td>\n",
       "      <td>0.0</td>\n",
       "      <td>10.0</td>\n",
       "      <td>0.0</td>\n",
       "      <td>0.0</td>\n",
       "      <td>1.0</td>\n",
       "      <td>Rio Grande do Sul</td>\n",
       "    </tr>\n",
       "    <tr>\n",
       "      <th>2</th>\n",
       "      <td>3</td>\n",
       "      <td>1.0</td>\n",
       "      <td>0.0</td>\n",
       "      <td>0.0</td>\n",
       "      <td>0.0</td>\n",
       "      <td>1.0</td>\n",
       "      <td>0.0</td>\n",
       "      <td>0.0</td>\n",
       "      <td>0.0</td>\n",
       "      <td>9.0</td>\n",
       "      <td>0.0</td>\n",
       "      <td>0.0</td>\n",
       "      <td>1.0</td>\n",
       "      <td>Rio Grande do Sul</td>\n",
       "    </tr>\n",
       "    <tr>\n",
       "      <th>3</th>\n",
       "      <td>4</td>\n",
       "      <td>1.0</td>\n",
       "      <td>0.0</td>\n",
       "      <td>0.0</td>\n",
       "      <td>0.0</td>\n",
       "      <td>0.0</td>\n",
       "      <td>0.0</td>\n",
       "      <td>0.0</td>\n",
       "      <td>1.0</td>\n",
       "      <td>13.0</td>\n",
       "      <td>0.0</td>\n",
       "      <td>0.0</td>\n",
       "      <td>0.0</td>\n",
       "      <td>Rio Grande do Sul</td>\n",
       "    </tr>\n",
       "    <tr>\n",
       "      <th>4</th>\n",
       "      <td>5</td>\n",
       "      <td>4.0</td>\n",
       "      <td>1.0</td>\n",
       "      <td>0.0</td>\n",
       "      <td>0.0</td>\n",
       "      <td>0.0</td>\n",
       "      <td>1.0</td>\n",
       "      <td>1.0</td>\n",
       "      <td>1.0</td>\n",
       "      <td>15.0</td>\n",
       "      <td>1.0</td>\n",
       "      <td>0.0</td>\n",
       "      <td>2.0</td>\n",
       "      <td>Rio Grande do Sul</td>\n",
       "    </tr>\n",
       "  </tbody>\n",
       "</table>\n",
       "</div>"
      ],
      "text/plain": [
       "   epiweek  Testes positivos  Influenza A  Influenza B  VSR  Adenovirus  \\\n",
       "0        1               3.0          1.0          1.0  0.0         0.0   \n",
       "1        2               1.0          0.0          0.0  0.0         1.0   \n",
       "2        3               1.0          0.0          0.0  0.0         1.0   \n",
       "3        4               1.0          0.0          0.0  0.0         0.0   \n",
       "4        5               4.0          1.0          0.0  0.0         0.0   \n",
       "\n",
       "   Parainfluenza 1  Parainfluenza 2  Parainfluenza 3  Testes negativos  \\\n",
       "0              0.0              0.0              1.0              18.0   \n",
       "1              0.0              0.0              0.0              10.0   \n",
       "2              0.0              0.0              0.0               9.0   \n",
       "3              0.0              0.0              1.0              13.0   \n",
       "4              1.0              1.0              1.0              15.0   \n",
       "\n",
       "   Casos sem teste laboratorial  Casos aguardando resultado  \\\n",
       "0                           1.0                         0.0   \n",
       "1                           0.0                         0.0   \n",
       "2                           0.0                         0.0   \n",
       "3                           0.0                         0.0   \n",
       "4                           1.0                         0.0   \n",
       "\n",
       "   Casos sem informação laboratorial     territory_name  \n",
       "0                                4.0  Rio Grande do Sul  \n",
       "1                                1.0  Rio Grande do Sul  \n",
       "2                                1.0  Rio Grande do Sul  \n",
       "3                                0.0  Rio Grande do Sul  \n",
       "4                                2.0  Rio Grande do Sul  "
      ]
     },
     "execution_count": 3,
     "metadata": {},
     "output_type": "execute_result"
    }
   ],
   "source": [
    "df = ethiological_timeseries(scale_id=1, territory_id=43, year=2017)\n",
    "df.head()"
   ]
  },
  {
   "cell_type": "code",
   "execution_count": 4,
   "metadata": {},
   "outputs": [],
   "source": [
    "def ethio_ts(df=pd.DataFrame, scale_id=int, year=int):\n",
    "    cols = [\n",
    "            'Testes positivos',\n",
    "            'Influenza A',\n",
    "            'Influenza B',\n",
    "            'VSR',\n",
    "            'Adenovirus',\n",
    "            'Parainfluenza 1',\n",
    "            'Parainfluenza 2',\n",
    "            'Parainfluenza 3'\n",
    "            ]\n",
    "    trace = []\n",
    "    trace.append(\n",
    "            go.Scatter(\n",
    "            x = df['epiweek'],\n",
    "            y = df[cols[0]],\n",
    "            name=cols[0],\n",
    "            mode='lines',\n",
    "            )\n",
    "        )\n",
    "    \n",
    "    if scale_id == 2:\n",
    "        ytitle = 'Casos'\n",
    "    else:\n",
    "        ytitle = 'Incidência'\n",
    "\n",
    "    for i,col in enumerate(cols[1:]):\n",
    "        trace.append(\n",
    "            go.Scatter(\n",
    "            x = df['epiweek'],\n",
    "            y = df[col],\n",
    "            name=ytitle,\n",
    "            mode='lines',\n",
    "            showlegend=False\n",
    "            )\n",
    "        )\n",
    "    \n",
    "    nrows = len(cols)\n",
    "    fig = tools.make_subplots(\n",
    "        rows=nrows,\n",
    "        cols=1,\n",
    "        print_grid=False,\n",
    "        subplot_titles=('Situação dos exames',\n",
    "            'Influenza A',\n",
    "            'Influenza B',\n",
    "            'VSR',\n",
    "            'Adenovirus',\n",
    "            'Parainfluenza 1',\n",
    "            'Parainfluenza 2',\n",
    "            'Parainfluenza 3'))\n",
    "    \n",
    "    for i in range(1,(nrows+1)):\n",
    "        fig.append_trace(trace[i-1], i, 1)\n",
    "\n",
    "    # Add extra lines to first subplot:\n",
    "    extra_cols = ['Testes negativos',\n",
    "                  'Casos sem teste laboratorial',\n",
    "                  'Casos aguardando resultado',\n",
    "                  'Casos sem informação laboratorial']\n",
    "    for i,col in enumerate(extra_cols):\n",
    "        fig.append_trace(\n",
    "            go.Scatter(\n",
    "            x = df['epiweek'],\n",
    "            y = df[col],\n",
    "            name=col,\n",
    "            mode='lines',\n",
    "            line=dict(color=cl.scales['12']['qual']['Paired'][-i])\n",
    "            ), 1, 1)\n",
    "    \n",
    "    # X-axis title and range:\n",
    "    lastepiweek = int(episem.episem(episem.lastepiday(year), out='W'))\n",
    "    extra_cols.extend(['Testes positivos'])\n",
    "    ymax = [\n",
    "        max(5*ceil(df[extra_cols].max().max()/5), 5),\n",
    "        max(5*ceil(df[cols[1:]].max().max()/5), 5)\n",
    "    ]\n",
    "    for i in range(1,(nrows+1)):\n",
    "        xaxis = 'xaxis%s' % i\n",
    "        yaxis = 'yaxis%s' % i\n",
    "        fig['layout'][xaxis].update(range=[1, lastepiweek])\n",
    "        fig['layout'][yaxis].update(range=[0, ymax[min(1,i-1)]], rangemode='nonnegative')\n",
    "    \n",
    "    fig['layout']['xaxis%s' % nrows].update(title='Semana epidemiológica', zeroline=True, showline=True)\n",
    "    \n",
    "    i = int(nrows/2)\n",
    "    fig['layout']['yaxis%s' % i].update(title=ytitle)\n",
    "    \n",
    "    territory_lbl = df['territory_name'].unique()[0]\n",
    "    fig['layout'].update(height=1600,\n",
    "                         width=800,\n",
    "                         title='Exames laboratoriais - %s' % territory_lbl\n",
    "                        )\n",
    "    iplot(fig)"
   ]
  },
  {
   "cell_type": "code",
   "execution_count": 5,
   "metadata": {},
   "outputs": [
    {
     "data": {
      "application/vnd.plotly.v1+json": {
       "data": [
        {
         "mode": "lines",
         "name": "Testes positivos",
         "type": "scatter",
         "x": [
          1,
          2,
          3,
          4,
          5,
          6,
          7,
          8,
          9,
          10,
          11,
          12,
          13,
          14,
          15,
          16,
          17,
          18,
          19,
          20,
          21,
          22,
          23,
          24,
          25,
          26,
          27,
          28,
          29,
          30,
          31,
          32,
          33
         ],
         "xaxis": "x1",
         "y": [
          3,
          1,
          1,
          1,
          4,
          3,
          2,
          2,
          0,
          4,
          3,
          5,
          4,
          10,
          6,
          13,
          13,
          14,
          33,
          43,
          52,
          67,
          79,
          79,
          69,
          70,
          63,
          42,
          34,
          30,
          14,
          16,
          0
         ],
         "yaxis": "y1"
        },
        {
         "mode": "lines",
         "name": "Incidência",
         "showlegend": false,
         "type": "scatter",
         "x": [
          1,
          2,
          3,
          4,
          5,
          6,
          7,
          8,
          9,
          10,
          11,
          12,
          13,
          14,
          15,
          16,
          17,
          18,
          19,
          20,
          21,
          22,
          23,
          24,
          25,
          26,
          27,
          28,
          29,
          30,
          31,
          32,
          33
         ],
         "xaxis": "x2",
         "y": [
          1,
          0,
          0,
          0,
          1,
          1,
          0,
          0,
          0,
          0,
          1,
          3,
          0,
          4,
          2,
          4,
          8,
          5,
          16,
          23,
          20,
          32,
          29,
          32,
          27,
          25,
          9,
          0,
          11,
          3,
          0,
          0,
          0
         ],
         "yaxis": "y2"
        },
        {
         "mode": "lines",
         "name": "Incidência",
         "showlegend": false,
         "type": "scatter",
         "x": [
          1,
          2,
          3,
          4,
          5,
          6,
          7,
          8,
          9,
          10,
          11,
          12,
          13,
          14,
          15,
          16,
          17,
          18,
          19,
          20,
          21,
          22,
          23,
          24,
          25,
          26,
          27,
          28,
          29,
          30,
          31,
          32,
          33
         ],
         "xaxis": "x3",
         "y": [
          1,
          0,
          0,
          0,
          0,
          2,
          0,
          0,
          0,
          0,
          0,
          0,
          0,
          0,
          0,
          0,
          1,
          0,
          4,
          3,
          3,
          4,
          3,
          11,
          8,
          9,
          9,
          6,
          3,
          4,
          3,
          1,
          0
         ],
         "yaxis": "y3"
        },
        {
         "mode": "lines",
         "name": "Incidência",
         "showlegend": false,
         "type": "scatter",
         "x": [
          1,
          2,
          3,
          4,
          5,
          6,
          7,
          8,
          9,
          10,
          11,
          12,
          13,
          14,
          15,
          16,
          17,
          18,
          19,
          20,
          21,
          22,
          23,
          24,
          25,
          26,
          27,
          28,
          29,
          30,
          31,
          32,
          33
         ],
         "xaxis": "x4",
         "y": [
          0,
          0,
          0,
          0,
          0,
          0,
          0,
          1,
          0,
          1,
          0,
          2,
          4,
          4,
          4,
          9,
          4,
          9,
          15,
          16,
          28,
          33,
          46,
          35,
          35,
          37,
          44,
          34,
          19,
          18,
          7,
          12,
          0
         ],
         "yaxis": "y4"
        },
        {
         "mode": "lines",
         "name": "Incidência",
         "showlegend": false,
         "type": "scatter",
         "x": [
          1,
          2,
          3,
          4,
          5,
          6,
          7,
          8,
          9,
          10,
          11,
          12,
          13,
          14,
          15,
          16,
          17,
          18,
          19,
          20,
          21,
          22,
          23,
          24,
          25,
          26,
          27,
          28,
          29,
          30,
          31,
          32,
          33
         ],
         "xaxis": "x5",
         "y": [
          0,
          1,
          1,
          0,
          0,
          0,
          2,
          0,
          0,
          1,
          1,
          0,
          0,
          0,
          0,
          0,
          0,
          1,
          0,
          0,
          2,
          0,
          0,
          0,
          0,
          0,
          0,
          0,
          2,
          3,
          0,
          0,
          0
         ],
         "yaxis": "y5"
        },
        {
         "mode": "lines",
         "name": "Incidência",
         "showlegend": false,
         "type": "scatter",
         "x": [
          1,
          2,
          3,
          4,
          5,
          6,
          7,
          8,
          9,
          10,
          11,
          12,
          13,
          14,
          15,
          16,
          17,
          18,
          19,
          20,
          21,
          22,
          23,
          24,
          25,
          26,
          27,
          28,
          29,
          30,
          31,
          32,
          33
         ],
         "xaxis": "x6",
         "y": [
          0,
          0,
          0,
          0,
          1,
          0,
          0,
          0,
          0,
          2,
          0,
          0,
          0,
          0,
          0,
          0,
          0,
          0,
          0,
          0,
          0,
          0,
          0,
          0,
          0,
          0,
          0,
          0,
          0,
          0,
          0,
          1,
          0
         ],
         "yaxis": "y6"
        },
        {
         "mode": "lines",
         "name": "Incidência",
         "showlegend": false,
         "type": "scatter",
         "x": [
          1,
          2,
          3,
          4,
          5,
          6,
          7,
          8,
          9,
          10,
          11,
          12,
          13,
          14,
          15,
          16,
          17,
          18,
          19,
          20,
          21,
          22,
          23,
          24,
          25,
          26,
          27,
          28,
          29,
          30,
          31,
          32,
          33
         ],
         "xaxis": "x7",
         "y": [
          0,
          0,
          0,
          0,
          1,
          0,
          0,
          1,
          0,
          0,
          1,
          0,
          0,
          1,
          0,
          0,
          1,
          0,
          0,
          1,
          0,
          0,
          0,
          0,
          0,
          0,
          0,
          0,
          0,
          0,
          0,
          0,
          0
         ],
         "yaxis": "y7"
        },
        {
         "mode": "lines",
         "name": "Incidência",
         "showlegend": false,
         "type": "scatter",
         "x": [
          1,
          2,
          3,
          4,
          5,
          6,
          7,
          8,
          9,
          10,
          11,
          12,
          13,
          14,
          15,
          16,
          17,
          18,
          19,
          20,
          21,
          22,
          23,
          24,
          25,
          26,
          27,
          28,
          29,
          30,
          31,
          32,
          33
         ],
         "xaxis": "x8",
         "y": [
          1,
          0,
          0,
          1,
          1,
          0,
          0,
          0,
          0,
          0,
          0,
          0,
          0,
          1,
          0,
          0,
          0,
          0,
          0,
          0,
          0,
          0,
          1,
          2,
          0,
          1,
          1,
          2,
          0,
          2,
          4,
          2,
          0
         ],
         "yaxis": "y8"
        },
        {
         "line": {
          "color": "rgb(166,206,227)"
         },
         "mode": "lines",
         "name": "Testes negativos",
         "type": "scatter",
         "x": [
          1,
          2,
          3,
          4,
          5,
          6,
          7,
          8,
          9,
          10,
          11,
          12,
          13,
          14,
          15,
          16,
          17,
          18,
          19,
          20,
          21,
          22,
          23,
          24,
          25,
          26,
          27,
          28,
          29,
          30,
          31,
          32,
          33
         ],
         "xaxis": "x1",
         "y": [
          18,
          10,
          9,
          13,
          15,
          8,
          13,
          16,
          24,
          15,
          23,
          30,
          22,
          25,
          14,
          21,
          27,
          40,
          39,
          46,
          42,
          43,
          37,
          45,
          56,
          59,
          46,
          49,
          42,
          34,
          24,
          24,
          6
         ],
         "yaxis": "y1"
        },
        {
         "line": {
          "color": "rgb(177,89,40)"
         },
         "mode": "lines",
         "name": "Casos sem teste laboratorial",
         "type": "scatter",
         "x": [
          1,
          2,
          3,
          4,
          5,
          6,
          7,
          8,
          9,
          10,
          11,
          12,
          13,
          14,
          15,
          16,
          17,
          18,
          19,
          20,
          21,
          22,
          23,
          24,
          25,
          26,
          27,
          28,
          29,
          30,
          31,
          32,
          33
         ],
         "xaxis": "x1",
         "y": [
          1,
          0,
          0,
          0,
          1,
          0,
          0,
          0,
          0,
          0,
          0,
          0,
          0,
          0,
          0,
          0,
          0,
          0,
          0,
          0,
          2,
          0,
          3,
          0,
          1,
          0,
          0,
          0,
          1,
          1,
          0,
          0,
          0
         ],
         "yaxis": "y1"
        },
        {
         "line": {
          "color": "rgb(255,255,153)"
         },
         "mode": "lines",
         "name": "Casos aguardando resultado",
         "type": "scatter",
         "x": [
          1,
          2,
          3,
          4,
          5,
          6,
          7,
          8,
          9,
          10,
          11,
          12,
          13,
          14,
          15,
          16,
          17,
          18,
          19,
          20,
          21,
          22,
          23,
          24,
          25,
          26,
          27,
          28,
          29,
          30,
          31,
          32,
          33
         ],
         "xaxis": "x1",
         "y": [
          0,
          0,
          0,
          0,
          0,
          0,
          0,
          0,
          0,
          0,
          0,
          0,
          0,
          0,
          0,
          0,
          0,
          0,
          0,
          0,
          0,
          0,
          0,
          0,
          0,
          0,
          0,
          0,
          0,
          0,
          0,
          0,
          0
         ],
         "yaxis": "y1"
        },
        {
         "line": {
          "color": "rgb(106,61,154)"
         },
         "mode": "lines",
         "name": "Casos sem informação laboratorial",
         "type": "scatter",
         "x": [
          1,
          2,
          3,
          4,
          5,
          6,
          7,
          8,
          9,
          10,
          11,
          12,
          13,
          14,
          15,
          16,
          17,
          18,
          19,
          20,
          21,
          22,
          23,
          24,
          25,
          26,
          27,
          28,
          29,
          30,
          31,
          32,
          33
         ],
         "xaxis": "x1",
         "y": [
          4,
          1,
          1,
          0,
          2,
          0,
          0,
          2,
          0,
          2,
          2,
          4,
          2,
          0,
          1,
          0,
          1,
          1,
          3,
          1,
          0,
          3,
          7,
          3,
          5,
          8,
          12,
          4,
          8,
          17,
          14,
          10,
          3
         ],
         "yaxis": "y1"
        }
       ],
       "layout": {
        "annotations": [
         {
          "font": {
           "size": 16
          },
          "showarrow": false,
          "text": "Situação dos exames",
          "x": 0.5,
          "xanchor": "center",
          "xref": "paper",
          "y": 1,
          "yanchor": "bottom",
          "yref": "paper"
         },
         {
          "font": {
           "size": 16
          },
          "showarrow": false,
          "text": "Influenza A",
          "x": 0.5,
          "xanchor": "center",
          "xref": "paper",
          "y": 0.8671875,
          "yanchor": "bottom",
          "yref": "paper"
         },
         {
          "font": {
           "size": 16
          },
          "showarrow": false,
          "text": "Influenza B",
          "x": 0.5,
          "xanchor": "center",
          "xref": "paper",
          "y": 0.734375,
          "yanchor": "bottom",
          "yref": "paper"
         },
         {
          "font": {
           "size": 16
          },
          "showarrow": false,
          "text": "VSR",
          "x": 0.5,
          "xanchor": "center",
          "xref": "paper",
          "y": 0.6015625,
          "yanchor": "bottom",
          "yref": "paper"
         },
         {
          "font": {
           "size": 16
          },
          "showarrow": false,
          "text": "Adenovirus",
          "x": 0.5,
          "xanchor": "center",
          "xref": "paper",
          "y": 0.46875,
          "yanchor": "bottom",
          "yref": "paper"
         },
         {
          "font": {
           "size": 16
          },
          "showarrow": false,
          "text": "Parainfluenza 1",
          "x": 0.5,
          "xanchor": "center",
          "xref": "paper",
          "y": 0.3359375,
          "yanchor": "bottom",
          "yref": "paper"
         },
         {
          "font": {
           "size": 16
          },
          "showarrow": false,
          "text": "Parainfluenza 2",
          "x": 0.5,
          "xanchor": "center",
          "xref": "paper",
          "y": 0.203125,
          "yanchor": "bottom",
          "yref": "paper"
         },
         {
          "font": {
           "size": 16
          },
          "showarrow": false,
          "text": "Parainfluenza 3",
          "x": 0.5,
          "xanchor": "center",
          "xref": "paper",
          "y": 0.0703125,
          "yanchor": "bottom",
          "yref": "paper"
         }
        ],
        "height": 1600,
        "title": "Exames laboratoriais - Rio Grande do Sul",
        "width": 800,
        "xaxis1": {
         "anchor": "y1",
         "domain": [
          0,
          1
         ],
         "range": [
          1,
          52
         ]
        },
        "xaxis2": {
         "anchor": "y2",
         "domain": [
          0,
          1
         ],
         "range": [
          1,
          52
         ]
        },
        "xaxis3": {
         "anchor": "y3",
         "domain": [
          0,
          1
         ],
         "range": [
          1,
          52
         ]
        },
        "xaxis4": {
         "anchor": "y4",
         "domain": [
          0,
          1
         ],
         "range": [
          1,
          52
         ]
        },
        "xaxis5": {
         "anchor": "y5",
         "domain": [
          0,
          1
         ],
         "range": [
          1,
          52
         ]
        },
        "xaxis6": {
         "anchor": "y6",
         "domain": [
          0,
          1
         ],
         "range": [
          1,
          52
         ]
        },
        "xaxis7": {
         "anchor": "y7",
         "domain": [
          0,
          1
         ],
         "range": [
          1,
          52
         ]
        },
        "xaxis8": {
         "anchor": "y8",
         "domain": [
          0,
          1
         ],
         "range": [
          1,
          52
         ],
         "showline": true,
         "title": "Semana epidemiológica",
         "zeroline": true
        },
        "yaxis1": {
         "anchor": "x1",
         "domain": [
          0.9296875,
          1
         ],
         "range": [
          0,
          80
         ],
         "rangemode": "nonnegative"
        },
        "yaxis2": {
         "anchor": "x2",
         "domain": [
          0.796875,
          0.8671875
         ],
         "range": [
          0,
          50
         ],
         "rangemode": "nonnegative"
        },
        "yaxis3": {
         "anchor": "x3",
         "domain": [
          0.6640625,
          0.734375
         ],
         "range": [
          0,
          50
         ],
         "rangemode": "nonnegative"
        },
        "yaxis4": {
         "anchor": "x4",
         "domain": [
          0.53125,
          0.6015625
         ],
         "range": [
          0,
          50
         ],
         "rangemode": "nonnegative",
         "title": "Incidência"
        },
        "yaxis5": {
         "anchor": "x5",
         "domain": [
          0.3984375,
          0.46875
         ],
         "range": [
          0,
          50
         ],
         "rangemode": "nonnegative"
        },
        "yaxis6": {
         "anchor": "x6",
         "domain": [
          0.265625,
          0.3359375
         ],
         "range": [
          0,
          50
         ],
         "rangemode": "nonnegative"
        },
        "yaxis7": {
         "anchor": "x7",
         "domain": [
          0.1328125,
          0.203125
         ],
         "range": [
          0,
          50
         ],
         "rangemode": "nonnegative"
        },
        "yaxis8": {
         "anchor": "x8",
         "domain": [
          0,
          0.0703125
         ],
         "range": [
          0,
          50
         ],
         "rangemode": "nonnegative"
        }
       }
      },
      "text/html": [
       "<div id=\"6cb3dbb7-81a9-4030-9707-228aa304e4bc\" style=\"height: 1600px; width: 800px;\" class=\"plotly-graph-div\"></div><script type=\"text/javascript\">require([\"plotly\"], function(Plotly) { window.PLOTLYENV=window.PLOTLYENV || {};window.PLOTLYENV.BASE_URL=\"https://plot.ly\";Plotly.newPlot(\"6cb3dbb7-81a9-4030-9707-228aa304e4bc\", [{\"type\": \"scatter\", \"x\": [1, 2, 3, 4, 5, 6, 7, 8, 9, 10, 11, 12, 13, 14, 15, 16, 17, 18, 19, 20, 21, 22, 23, 24, 25, 26, 27, 28, 29, 30, 31, 32, 33], \"y\": [3.0, 1.0, 1.0, 1.0, 4.0, 3.0, 2.0, 2.0, 0.0, 4.0, 3.0, 5.0, 4.0, 10.0, 6.0, 13.0, 13.0, 14.0, 33.0, 43.0, 52.0, 67.0, 79.0, 79.0, 69.0, 70.0, 63.0, 42.0, 34.0, 30.0, 14.0, 16.0, 0.0], \"name\": \"Testes positivos\", \"mode\": \"lines\", \"xaxis\": \"x1\", \"yaxis\": \"y1\"}, {\"type\": \"scatter\", \"x\": [1, 2, 3, 4, 5, 6, 7, 8, 9, 10, 11, 12, 13, 14, 15, 16, 17, 18, 19, 20, 21, 22, 23, 24, 25, 26, 27, 28, 29, 30, 31, 32, 33], \"y\": [1.0, 0.0, 0.0, 0.0, 1.0, 1.0, 0.0, 0.0, 0.0, 0.0, 1.0, 3.0, 0.0, 4.0, 2.0, 4.0, 8.0, 5.0, 16.0, 23.0, 20.0, 32.0, 29.0, 32.0, 27.0, 25.0, 9.0, 0.0, 11.0, 3.0, 0.0, 0.0, 0.0], \"name\": \"Incid\\u00eancia\", \"mode\": \"lines\", \"showlegend\": false, \"xaxis\": \"x2\", \"yaxis\": \"y2\"}, {\"type\": \"scatter\", \"x\": [1, 2, 3, 4, 5, 6, 7, 8, 9, 10, 11, 12, 13, 14, 15, 16, 17, 18, 19, 20, 21, 22, 23, 24, 25, 26, 27, 28, 29, 30, 31, 32, 33], \"y\": [1.0, 0.0, 0.0, 0.0, 0.0, 2.0, 0.0, 0.0, 0.0, 0.0, 0.0, 0.0, 0.0, 0.0, 0.0, 0.0, 1.0, 0.0, 4.0, 3.0, 3.0, 4.0, 3.0, 11.0, 8.0, 9.0, 9.0, 6.0, 3.0, 4.0, 3.0, 1.0, 0.0], \"name\": \"Incid\\u00eancia\", \"mode\": \"lines\", \"showlegend\": false, \"xaxis\": \"x3\", \"yaxis\": \"y3\"}, {\"type\": \"scatter\", \"x\": [1, 2, 3, 4, 5, 6, 7, 8, 9, 10, 11, 12, 13, 14, 15, 16, 17, 18, 19, 20, 21, 22, 23, 24, 25, 26, 27, 28, 29, 30, 31, 32, 33], \"y\": [0.0, 0.0, 0.0, 0.0, 0.0, 0.0, 0.0, 1.0, 0.0, 1.0, 0.0, 2.0, 4.0, 4.0, 4.0, 9.0, 4.0, 9.0, 15.0, 16.0, 28.0, 33.0, 46.0, 35.0, 35.0, 37.0, 44.0, 34.0, 19.0, 18.0, 7.0, 12.0, 0.0], \"name\": \"Incid\\u00eancia\", \"mode\": \"lines\", \"showlegend\": false, \"xaxis\": \"x4\", \"yaxis\": \"y4\"}, {\"type\": \"scatter\", \"x\": [1, 2, 3, 4, 5, 6, 7, 8, 9, 10, 11, 12, 13, 14, 15, 16, 17, 18, 19, 20, 21, 22, 23, 24, 25, 26, 27, 28, 29, 30, 31, 32, 33], \"y\": [0.0, 1.0, 1.0, 0.0, 0.0, 0.0, 2.0, 0.0, 0.0, 1.0, 1.0, 0.0, 0.0, 0.0, 0.0, 0.0, 0.0, 1.0, 0.0, 0.0, 2.0, 0.0, 0.0, 0.0, 0.0, 0.0, 0.0, 0.0, 2.0, 3.0, 0.0, 0.0, 0.0], \"name\": \"Incid\\u00eancia\", \"mode\": \"lines\", \"showlegend\": false, \"xaxis\": \"x5\", \"yaxis\": \"y5\"}, {\"type\": \"scatter\", \"x\": [1, 2, 3, 4, 5, 6, 7, 8, 9, 10, 11, 12, 13, 14, 15, 16, 17, 18, 19, 20, 21, 22, 23, 24, 25, 26, 27, 28, 29, 30, 31, 32, 33], \"y\": [0.0, 0.0, 0.0, 0.0, 1.0, 0.0, 0.0, 0.0, 0.0, 2.0, 0.0, 0.0, 0.0, 0.0, 0.0, 0.0, 0.0, 0.0, 0.0, 0.0, 0.0, 0.0, 0.0, 0.0, 0.0, 0.0, 0.0, 0.0, 0.0, 0.0, 0.0, 1.0, 0.0], \"name\": \"Incid\\u00eancia\", \"mode\": \"lines\", \"showlegend\": false, \"xaxis\": \"x6\", \"yaxis\": \"y6\"}, {\"type\": \"scatter\", \"x\": [1, 2, 3, 4, 5, 6, 7, 8, 9, 10, 11, 12, 13, 14, 15, 16, 17, 18, 19, 20, 21, 22, 23, 24, 25, 26, 27, 28, 29, 30, 31, 32, 33], \"y\": [0.0, 0.0, 0.0, 0.0, 1.0, 0.0, 0.0, 1.0, 0.0, 0.0, 1.0, 0.0, 0.0, 1.0, 0.0, 0.0, 1.0, 0.0, 0.0, 1.0, 0.0, 0.0, 0.0, 0.0, 0.0, 0.0, 0.0, 0.0, 0.0, 0.0, 0.0, 0.0, 0.0], \"name\": \"Incid\\u00eancia\", \"mode\": \"lines\", \"showlegend\": false, \"xaxis\": \"x7\", \"yaxis\": \"y7\"}, {\"type\": \"scatter\", \"x\": [1, 2, 3, 4, 5, 6, 7, 8, 9, 10, 11, 12, 13, 14, 15, 16, 17, 18, 19, 20, 21, 22, 23, 24, 25, 26, 27, 28, 29, 30, 31, 32, 33], \"y\": [1.0, 0.0, 0.0, 1.0, 1.0, 0.0, 0.0, 0.0, 0.0, 0.0, 0.0, 0.0, 0.0, 1.0, 0.0, 0.0, 0.0, 0.0, 0.0, 0.0, 0.0, 0.0, 1.0, 2.0, 0.0, 1.0, 1.0, 2.0, 0.0, 2.0, 4.0, 2.0, 0.0], \"name\": \"Incid\\u00eancia\", \"mode\": \"lines\", \"showlegend\": false, \"xaxis\": \"x8\", \"yaxis\": \"y8\"}, {\"type\": \"scatter\", \"x\": [1, 2, 3, 4, 5, 6, 7, 8, 9, 10, 11, 12, 13, 14, 15, 16, 17, 18, 19, 20, 21, 22, 23, 24, 25, 26, 27, 28, 29, 30, 31, 32, 33], \"y\": [18.0, 10.0, 9.0, 13.0, 15.0, 8.0, 13.0, 16.0, 24.0, 15.0, 23.0, 30.0, 22.0, 25.0, 14.0, 21.0, 27.0, 40.0, 39.0, 46.0, 42.0, 43.0, 37.0, 45.0, 56.0, 59.0, 46.0, 49.0, 42.0, 34.0, 24.0, 24.0, 6.0], \"name\": \"Testes negativos\", \"mode\": \"lines\", \"line\": {\"color\": \"rgb(166,206,227)\"}, \"xaxis\": \"x1\", \"yaxis\": \"y1\"}, {\"type\": \"scatter\", \"x\": [1, 2, 3, 4, 5, 6, 7, 8, 9, 10, 11, 12, 13, 14, 15, 16, 17, 18, 19, 20, 21, 22, 23, 24, 25, 26, 27, 28, 29, 30, 31, 32, 33], \"y\": [1.0, 0.0, 0.0, 0.0, 1.0, 0.0, 0.0, 0.0, 0.0, 0.0, 0.0, 0.0, 0.0, 0.0, 0.0, 0.0, 0.0, 0.0, 0.0, 0.0, 2.0, 0.0, 3.0, 0.0, 1.0, 0.0, 0.0, 0.0, 1.0, 1.0, 0.0, 0.0, 0.0], \"name\": \"Casos sem teste laboratorial\", \"mode\": \"lines\", \"line\": {\"color\": \"rgb(177,89,40)\"}, \"xaxis\": \"x1\", \"yaxis\": \"y1\"}, {\"type\": \"scatter\", \"x\": [1, 2, 3, 4, 5, 6, 7, 8, 9, 10, 11, 12, 13, 14, 15, 16, 17, 18, 19, 20, 21, 22, 23, 24, 25, 26, 27, 28, 29, 30, 31, 32, 33], \"y\": [0.0, 0.0, 0.0, 0.0, 0.0, 0.0, 0.0, 0.0, 0.0, 0.0, 0.0, 0.0, 0.0, 0.0, 0.0, 0.0, 0.0, 0.0, 0.0, 0.0, 0.0, 0.0, 0.0, 0.0, 0.0, 0.0, 0.0, 0.0, 0.0, 0.0, 0.0, 0.0, 0.0], \"name\": \"Casos aguardando resultado\", \"mode\": \"lines\", \"line\": {\"color\": \"rgb(255,255,153)\"}, \"xaxis\": \"x1\", \"yaxis\": \"y1\"}, {\"type\": \"scatter\", \"x\": [1, 2, 3, 4, 5, 6, 7, 8, 9, 10, 11, 12, 13, 14, 15, 16, 17, 18, 19, 20, 21, 22, 23, 24, 25, 26, 27, 28, 29, 30, 31, 32, 33], \"y\": [4.0, 1.0, 1.0, 0.0, 2.0, 0.0, 0.0, 2.0, 0.0, 2.0, 2.0, 4.0, 2.0, 0.0, 1.0, 0.0, 1.0, 1.0, 3.0, 1.0, 0.0, 3.0, 7.0, 3.0, 5.0, 8.0, 12.0, 4.0, 8.0, 17.0, 14.0, 10.0, 3.0], \"name\": \"Casos sem informa\\u00e7\\u00e3o laboratorial\", \"mode\": \"lines\", \"line\": {\"color\": \"rgb(106,61,154)\"}, \"xaxis\": \"x1\", \"yaxis\": \"y1\"}], {\"xaxis1\": {\"domain\": [0.0, 1.0], \"anchor\": \"y1\", \"range\": [1, 52]}, \"yaxis1\": {\"domain\": [0.9296875, 1.0], \"anchor\": \"x1\", \"range\": [0, 80.0], \"rangemode\": \"nonnegative\"}, \"xaxis2\": {\"domain\": [0.0, 1.0], \"anchor\": \"y2\", \"range\": [1, 52]}, \"yaxis2\": {\"domain\": [0.796875, 0.8671875], \"anchor\": \"x2\", \"range\": [0, 50.0], \"rangemode\": \"nonnegative\"}, \"xaxis3\": {\"domain\": [0.0, 1.0], \"anchor\": \"y3\", \"range\": [1, 52]}, \"yaxis3\": {\"domain\": [0.6640625, 0.734375], \"anchor\": \"x3\", \"range\": [0, 50.0], \"rangemode\": \"nonnegative\"}, \"xaxis4\": {\"domain\": [0.0, 1.0], \"anchor\": \"y4\", \"range\": [1, 52]}, \"yaxis4\": {\"domain\": [0.53125, 0.6015625], \"anchor\": \"x4\", \"range\": [0, 50.0], \"rangemode\": \"nonnegative\", \"title\": \"Incid\\u00eancia\"}, \"xaxis5\": {\"domain\": [0.0, 1.0], \"anchor\": \"y5\", \"range\": [1, 52]}, \"yaxis5\": {\"domain\": [0.3984375, 0.46875], \"anchor\": \"x5\", \"range\": [0, 50.0], \"rangemode\": \"nonnegative\"}, \"xaxis6\": {\"domain\": [0.0, 1.0], \"anchor\": \"y6\", \"range\": [1, 52]}, \"yaxis6\": {\"domain\": [0.265625, 0.3359375], \"anchor\": \"x6\", \"range\": [0, 50.0], \"rangemode\": \"nonnegative\"}, \"xaxis7\": {\"domain\": [0.0, 1.0], \"anchor\": \"y7\", \"range\": [1, 52]}, \"yaxis7\": {\"domain\": [0.1328125, 0.203125], \"anchor\": \"x7\", \"range\": [0, 50.0], \"rangemode\": \"nonnegative\"}, \"xaxis8\": {\"domain\": [0.0, 1.0], \"anchor\": \"y8\", \"range\": [1, 52], \"title\": \"Semana epidemiol\\u00f3gica\", \"zeroline\": true, \"showline\": true}, \"yaxis8\": {\"domain\": [0.0, 0.0703125], \"anchor\": \"x8\", \"range\": [0, 50.0], \"rangemode\": \"nonnegative\"}, \"annotations\": [{\"y\": 1.0, \"xref\": \"paper\", \"x\": 0.5, \"yref\": \"paper\", \"text\": \"Situa\\u00e7\\u00e3o dos exames\", \"showarrow\": false, \"font\": {\"size\": 16}, \"xanchor\": \"center\", \"yanchor\": \"bottom\"}, {\"y\": 0.8671875, \"xref\": \"paper\", \"x\": 0.5, \"yref\": \"paper\", \"text\": \"Influenza A\", \"showarrow\": false, \"font\": {\"size\": 16}, \"xanchor\": \"center\", \"yanchor\": \"bottom\"}, {\"y\": 0.734375, \"xref\": \"paper\", \"x\": 0.5, \"yref\": \"paper\", \"text\": \"Influenza B\", \"showarrow\": false, \"font\": {\"size\": 16}, \"xanchor\": \"center\", \"yanchor\": \"bottom\"}, {\"y\": 0.6015625, \"xref\": \"paper\", \"x\": 0.5, \"yref\": \"paper\", \"text\": \"VSR\", \"showarrow\": false, \"font\": {\"size\": 16}, \"xanchor\": \"center\", \"yanchor\": \"bottom\"}, {\"y\": 0.46875, \"xref\": \"paper\", \"x\": 0.5, \"yref\": \"paper\", \"text\": \"Adenovirus\", \"showarrow\": false, \"font\": {\"size\": 16}, \"xanchor\": \"center\", \"yanchor\": \"bottom\"}, {\"y\": 0.3359375, \"xref\": \"paper\", \"x\": 0.5, \"yref\": \"paper\", \"text\": \"Parainfluenza 1\", \"showarrow\": false, \"font\": {\"size\": 16}, \"xanchor\": \"center\", \"yanchor\": \"bottom\"}, {\"y\": 0.203125, \"xref\": \"paper\", \"x\": 0.5, \"yref\": \"paper\", \"text\": \"Parainfluenza 2\", \"showarrow\": false, \"font\": {\"size\": 16}, \"xanchor\": \"center\", \"yanchor\": \"bottom\"}, {\"y\": 0.0703125, \"xref\": \"paper\", \"x\": 0.5, \"yref\": \"paper\", \"text\": \"Parainfluenza 3\", \"showarrow\": false, \"font\": {\"size\": 16}, \"xanchor\": \"center\", \"yanchor\": \"bottom\"}], \"height\": 1600, \"width\": 800, \"title\": \"Exames laboratoriais - Rio Grande do Sul\"}, {\"showLink\": true, \"linkText\": \"Export to plot.ly\"})});</script>"
      ],
      "text/vnd.plotly.v1+html": [
       "<div id=\"6cb3dbb7-81a9-4030-9707-228aa304e4bc\" style=\"height: 1600px; width: 800px;\" class=\"plotly-graph-div\"></div><script type=\"text/javascript\">require([\"plotly\"], function(Plotly) { window.PLOTLYENV=window.PLOTLYENV || {};window.PLOTLYENV.BASE_URL=\"https://plot.ly\";Plotly.newPlot(\"6cb3dbb7-81a9-4030-9707-228aa304e4bc\", [{\"type\": \"scatter\", \"x\": [1, 2, 3, 4, 5, 6, 7, 8, 9, 10, 11, 12, 13, 14, 15, 16, 17, 18, 19, 20, 21, 22, 23, 24, 25, 26, 27, 28, 29, 30, 31, 32, 33], \"y\": [3.0, 1.0, 1.0, 1.0, 4.0, 3.0, 2.0, 2.0, 0.0, 4.0, 3.0, 5.0, 4.0, 10.0, 6.0, 13.0, 13.0, 14.0, 33.0, 43.0, 52.0, 67.0, 79.0, 79.0, 69.0, 70.0, 63.0, 42.0, 34.0, 30.0, 14.0, 16.0, 0.0], \"name\": \"Testes positivos\", \"mode\": \"lines\", \"xaxis\": \"x1\", \"yaxis\": \"y1\"}, {\"type\": \"scatter\", \"x\": [1, 2, 3, 4, 5, 6, 7, 8, 9, 10, 11, 12, 13, 14, 15, 16, 17, 18, 19, 20, 21, 22, 23, 24, 25, 26, 27, 28, 29, 30, 31, 32, 33], \"y\": [1.0, 0.0, 0.0, 0.0, 1.0, 1.0, 0.0, 0.0, 0.0, 0.0, 1.0, 3.0, 0.0, 4.0, 2.0, 4.0, 8.0, 5.0, 16.0, 23.0, 20.0, 32.0, 29.0, 32.0, 27.0, 25.0, 9.0, 0.0, 11.0, 3.0, 0.0, 0.0, 0.0], \"name\": \"Incid\\u00eancia\", \"mode\": \"lines\", \"showlegend\": false, \"xaxis\": \"x2\", \"yaxis\": \"y2\"}, {\"type\": \"scatter\", \"x\": [1, 2, 3, 4, 5, 6, 7, 8, 9, 10, 11, 12, 13, 14, 15, 16, 17, 18, 19, 20, 21, 22, 23, 24, 25, 26, 27, 28, 29, 30, 31, 32, 33], \"y\": [1.0, 0.0, 0.0, 0.0, 0.0, 2.0, 0.0, 0.0, 0.0, 0.0, 0.0, 0.0, 0.0, 0.0, 0.0, 0.0, 1.0, 0.0, 4.0, 3.0, 3.0, 4.0, 3.0, 11.0, 8.0, 9.0, 9.0, 6.0, 3.0, 4.0, 3.0, 1.0, 0.0], \"name\": \"Incid\\u00eancia\", \"mode\": \"lines\", \"showlegend\": false, \"xaxis\": \"x3\", \"yaxis\": \"y3\"}, {\"type\": \"scatter\", \"x\": [1, 2, 3, 4, 5, 6, 7, 8, 9, 10, 11, 12, 13, 14, 15, 16, 17, 18, 19, 20, 21, 22, 23, 24, 25, 26, 27, 28, 29, 30, 31, 32, 33], \"y\": [0.0, 0.0, 0.0, 0.0, 0.0, 0.0, 0.0, 1.0, 0.0, 1.0, 0.0, 2.0, 4.0, 4.0, 4.0, 9.0, 4.0, 9.0, 15.0, 16.0, 28.0, 33.0, 46.0, 35.0, 35.0, 37.0, 44.0, 34.0, 19.0, 18.0, 7.0, 12.0, 0.0], \"name\": \"Incid\\u00eancia\", \"mode\": \"lines\", \"showlegend\": false, \"xaxis\": \"x4\", \"yaxis\": \"y4\"}, {\"type\": \"scatter\", \"x\": [1, 2, 3, 4, 5, 6, 7, 8, 9, 10, 11, 12, 13, 14, 15, 16, 17, 18, 19, 20, 21, 22, 23, 24, 25, 26, 27, 28, 29, 30, 31, 32, 33], \"y\": [0.0, 1.0, 1.0, 0.0, 0.0, 0.0, 2.0, 0.0, 0.0, 1.0, 1.0, 0.0, 0.0, 0.0, 0.0, 0.0, 0.0, 1.0, 0.0, 0.0, 2.0, 0.0, 0.0, 0.0, 0.0, 0.0, 0.0, 0.0, 2.0, 3.0, 0.0, 0.0, 0.0], \"name\": \"Incid\\u00eancia\", \"mode\": \"lines\", \"showlegend\": false, \"xaxis\": \"x5\", \"yaxis\": \"y5\"}, {\"type\": \"scatter\", \"x\": [1, 2, 3, 4, 5, 6, 7, 8, 9, 10, 11, 12, 13, 14, 15, 16, 17, 18, 19, 20, 21, 22, 23, 24, 25, 26, 27, 28, 29, 30, 31, 32, 33], \"y\": [0.0, 0.0, 0.0, 0.0, 1.0, 0.0, 0.0, 0.0, 0.0, 2.0, 0.0, 0.0, 0.0, 0.0, 0.0, 0.0, 0.0, 0.0, 0.0, 0.0, 0.0, 0.0, 0.0, 0.0, 0.0, 0.0, 0.0, 0.0, 0.0, 0.0, 0.0, 1.0, 0.0], \"name\": \"Incid\\u00eancia\", \"mode\": \"lines\", \"showlegend\": false, \"xaxis\": \"x6\", \"yaxis\": \"y6\"}, {\"type\": \"scatter\", \"x\": [1, 2, 3, 4, 5, 6, 7, 8, 9, 10, 11, 12, 13, 14, 15, 16, 17, 18, 19, 20, 21, 22, 23, 24, 25, 26, 27, 28, 29, 30, 31, 32, 33], \"y\": [0.0, 0.0, 0.0, 0.0, 1.0, 0.0, 0.0, 1.0, 0.0, 0.0, 1.0, 0.0, 0.0, 1.0, 0.0, 0.0, 1.0, 0.0, 0.0, 1.0, 0.0, 0.0, 0.0, 0.0, 0.0, 0.0, 0.0, 0.0, 0.0, 0.0, 0.0, 0.0, 0.0], \"name\": \"Incid\\u00eancia\", \"mode\": \"lines\", \"showlegend\": false, \"xaxis\": \"x7\", \"yaxis\": \"y7\"}, {\"type\": \"scatter\", \"x\": [1, 2, 3, 4, 5, 6, 7, 8, 9, 10, 11, 12, 13, 14, 15, 16, 17, 18, 19, 20, 21, 22, 23, 24, 25, 26, 27, 28, 29, 30, 31, 32, 33], \"y\": [1.0, 0.0, 0.0, 1.0, 1.0, 0.0, 0.0, 0.0, 0.0, 0.0, 0.0, 0.0, 0.0, 1.0, 0.0, 0.0, 0.0, 0.0, 0.0, 0.0, 0.0, 0.0, 1.0, 2.0, 0.0, 1.0, 1.0, 2.0, 0.0, 2.0, 4.0, 2.0, 0.0], \"name\": \"Incid\\u00eancia\", \"mode\": \"lines\", \"showlegend\": false, \"xaxis\": \"x8\", \"yaxis\": \"y8\"}, {\"type\": \"scatter\", \"x\": [1, 2, 3, 4, 5, 6, 7, 8, 9, 10, 11, 12, 13, 14, 15, 16, 17, 18, 19, 20, 21, 22, 23, 24, 25, 26, 27, 28, 29, 30, 31, 32, 33], \"y\": [18.0, 10.0, 9.0, 13.0, 15.0, 8.0, 13.0, 16.0, 24.0, 15.0, 23.0, 30.0, 22.0, 25.0, 14.0, 21.0, 27.0, 40.0, 39.0, 46.0, 42.0, 43.0, 37.0, 45.0, 56.0, 59.0, 46.0, 49.0, 42.0, 34.0, 24.0, 24.0, 6.0], \"name\": \"Testes negativos\", \"mode\": \"lines\", \"line\": {\"color\": \"rgb(166,206,227)\"}, \"xaxis\": \"x1\", \"yaxis\": \"y1\"}, {\"type\": \"scatter\", \"x\": [1, 2, 3, 4, 5, 6, 7, 8, 9, 10, 11, 12, 13, 14, 15, 16, 17, 18, 19, 20, 21, 22, 23, 24, 25, 26, 27, 28, 29, 30, 31, 32, 33], \"y\": [1.0, 0.0, 0.0, 0.0, 1.0, 0.0, 0.0, 0.0, 0.0, 0.0, 0.0, 0.0, 0.0, 0.0, 0.0, 0.0, 0.0, 0.0, 0.0, 0.0, 2.0, 0.0, 3.0, 0.0, 1.0, 0.0, 0.0, 0.0, 1.0, 1.0, 0.0, 0.0, 0.0], \"name\": \"Casos sem teste laboratorial\", \"mode\": \"lines\", \"line\": {\"color\": \"rgb(177,89,40)\"}, \"xaxis\": \"x1\", \"yaxis\": \"y1\"}, {\"type\": \"scatter\", \"x\": [1, 2, 3, 4, 5, 6, 7, 8, 9, 10, 11, 12, 13, 14, 15, 16, 17, 18, 19, 20, 21, 22, 23, 24, 25, 26, 27, 28, 29, 30, 31, 32, 33], \"y\": [0.0, 0.0, 0.0, 0.0, 0.0, 0.0, 0.0, 0.0, 0.0, 0.0, 0.0, 0.0, 0.0, 0.0, 0.0, 0.0, 0.0, 0.0, 0.0, 0.0, 0.0, 0.0, 0.0, 0.0, 0.0, 0.0, 0.0, 0.0, 0.0, 0.0, 0.0, 0.0, 0.0], \"name\": \"Casos aguardando resultado\", \"mode\": \"lines\", \"line\": {\"color\": \"rgb(255,255,153)\"}, \"xaxis\": \"x1\", \"yaxis\": \"y1\"}, {\"type\": \"scatter\", \"x\": [1, 2, 3, 4, 5, 6, 7, 8, 9, 10, 11, 12, 13, 14, 15, 16, 17, 18, 19, 20, 21, 22, 23, 24, 25, 26, 27, 28, 29, 30, 31, 32, 33], \"y\": [4.0, 1.0, 1.0, 0.0, 2.0, 0.0, 0.0, 2.0, 0.0, 2.0, 2.0, 4.0, 2.0, 0.0, 1.0, 0.0, 1.0, 1.0, 3.0, 1.0, 0.0, 3.0, 7.0, 3.0, 5.0, 8.0, 12.0, 4.0, 8.0, 17.0, 14.0, 10.0, 3.0], \"name\": \"Casos sem informa\\u00e7\\u00e3o laboratorial\", \"mode\": \"lines\", \"line\": {\"color\": \"rgb(106,61,154)\"}, \"xaxis\": \"x1\", \"yaxis\": \"y1\"}], {\"xaxis1\": {\"domain\": [0.0, 1.0], \"anchor\": \"y1\", \"range\": [1, 52]}, \"yaxis1\": {\"domain\": [0.9296875, 1.0], \"anchor\": \"x1\", \"range\": [0, 80.0], \"rangemode\": \"nonnegative\"}, \"xaxis2\": {\"domain\": [0.0, 1.0], \"anchor\": \"y2\", \"range\": [1, 52]}, \"yaxis2\": {\"domain\": [0.796875, 0.8671875], \"anchor\": \"x2\", \"range\": [0, 50.0], \"rangemode\": \"nonnegative\"}, \"xaxis3\": {\"domain\": [0.0, 1.0], \"anchor\": \"y3\", \"range\": [1, 52]}, \"yaxis3\": {\"domain\": [0.6640625, 0.734375], \"anchor\": \"x3\", \"range\": [0, 50.0], \"rangemode\": \"nonnegative\"}, \"xaxis4\": {\"domain\": [0.0, 1.0], \"anchor\": \"y4\", \"range\": [1, 52]}, \"yaxis4\": {\"domain\": [0.53125, 0.6015625], \"anchor\": \"x4\", \"range\": [0, 50.0], \"rangemode\": \"nonnegative\", \"title\": \"Incid\\u00eancia\"}, \"xaxis5\": {\"domain\": [0.0, 1.0], \"anchor\": \"y5\", \"range\": [1, 52]}, \"yaxis5\": {\"domain\": [0.3984375, 0.46875], \"anchor\": \"x5\", \"range\": [0, 50.0], \"rangemode\": \"nonnegative\"}, \"xaxis6\": {\"domain\": [0.0, 1.0], \"anchor\": \"y6\", \"range\": [1, 52]}, \"yaxis6\": {\"domain\": [0.265625, 0.3359375], \"anchor\": \"x6\", \"range\": [0, 50.0], \"rangemode\": \"nonnegative\"}, \"xaxis7\": {\"domain\": [0.0, 1.0], \"anchor\": \"y7\", \"range\": [1, 52]}, \"yaxis7\": {\"domain\": [0.1328125, 0.203125], \"anchor\": \"x7\", \"range\": [0, 50.0], \"rangemode\": \"nonnegative\"}, \"xaxis8\": {\"domain\": [0.0, 1.0], \"anchor\": \"y8\", \"range\": [1, 52], \"title\": \"Semana epidemiol\\u00f3gica\", \"zeroline\": true, \"showline\": true}, \"yaxis8\": {\"domain\": [0.0, 0.0703125], \"anchor\": \"x8\", \"range\": [0, 50.0], \"rangemode\": \"nonnegative\"}, \"annotations\": [{\"y\": 1.0, \"xref\": \"paper\", \"x\": 0.5, \"yref\": \"paper\", \"text\": \"Situa\\u00e7\\u00e3o dos exames\", \"showarrow\": false, \"font\": {\"size\": 16}, \"xanchor\": \"center\", \"yanchor\": \"bottom\"}, {\"y\": 0.8671875, \"xref\": \"paper\", \"x\": 0.5, \"yref\": \"paper\", \"text\": \"Influenza A\", \"showarrow\": false, \"font\": {\"size\": 16}, \"xanchor\": \"center\", \"yanchor\": \"bottom\"}, {\"y\": 0.734375, \"xref\": \"paper\", \"x\": 0.5, \"yref\": \"paper\", \"text\": \"Influenza B\", \"showarrow\": false, \"font\": {\"size\": 16}, \"xanchor\": \"center\", \"yanchor\": \"bottom\"}, {\"y\": 0.6015625, \"xref\": \"paper\", \"x\": 0.5, \"yref\": \"paper\", \"text\": \"VSR\", \"showarrow\": false, \"font\": {\"size\": 16}, \"xanchor\": \"center\", \"yanchor\": \"bottom\"}, {\"y\": 0.46875, \"xref\": \"paper\", \"x\": 0.5, \"yref\": \"paper\", \"text\": \"Adenovirus\", \"showarrow\": false, \"font\": {\"size\": 16}, \"xanchor\": \"center\", \"yanchor\": \"bottom\"}, {\"y\": 0.3359375, \"xref\": \"paper\", \"x\": 0.5, \"yref\": \"paper\", \"text\": \"Parainfluenza 1\", \"showarrow\": false, \"font\": {\"size\": 16}, \"xanchor\": \"center\", \"yanchor\": \"bottom\"}, {\"y\": 0.203125, \"xref\": \"paper\", \"x\": 0.5, \"yref\": \"paper\", \"text\": \"Parainfluenza 2\", \"showarrow\": false, \"font\": {\"size\": 16}, \"xanchor\": \"center\", \"yanchor\": \"bottom\"}, {\"y\": 0.0703125, \"xref\": \"paper\", \"x\": 0.5, \"yref\": \"paper\", \"text\": \"Parainfluenza 3\", \"showarrow\": false, \"font\": {\"size\": 16}, \"xanchor\": \"center\", \"yanchor\": \"bottom\"}], \"height\": 1600, \"width\": 800, \"title\": \"Exames laboratoriais - Rio Grande do Sul\"}, {\"showLink\": true, \"linkText\": \"Export to plot.ly\"})});</script>"
      ]
     },
     "metadata": {},
     "output_type": "display_data"
    }
   ],
   "source": [
    "ethio_ts(df, scale_id = 1, year=2017)"
   ]
  },
  {
   "cell_type": "code",
   "execution_count": 6,
   "metadata": {},
   "outputs": [
    {
     "data": {
      "application/vnd.plotly.v1+json": {
       "data": [
        {
         "mode": "lines",
         "name": "Testes positivos",
         "type": "scatter",
         "x": [
          1,
          2,
          3,
          4,
          5,
          6,
          7,
          8,
          9,
          10,
          11,
          12,
          13,
          14,
          15
         ],
         "xaxis": "x1",
         "y": [
          3,
          1,
          1,
          1,
          4,
          3,
          2,
          2,
          0,
          4,
          3,
          5,
          4,
          10,
          6
         ],
         "yaxis": "y1"
        },
        {
         "mode": "lines",
         "name": "Incidência",
         "showlegend": false,
         "type": "scatter",
         "x": [
          1,
          2,
          3,
          4,
          5,
          6,
          7,
          8,
          9,
          10,
          11,
          12,
          13,
          14,
          15
         ],
         "xaxis": "x2",
         "y": [
          1,
          0,
          0,
          0,
          1,
          1,
          0,
          0,
          0,
          0,
          1,
          3,
          0,
          4,
          2
         ],
         "yaxis": "y2"
        },
        {
         "mode": "lines",
         "name": "Incidência",
         "showlegend": false,
         "type": "scatter",
         "x": [
          1,
          2,
          3,
          4,
          5,
          6,
          7,
          8,
          9,
          10,
          11,
          12,
          13,
          14,
          15
         ],
         "xaxis": "x3",
         "y": [
          1,
          0,
          0,
          0,
          0,
          2,
          0,
          0,
          0,
          0,
          0,
          0,
          0,
          0,
          0
         ],
         "yaxis": "y3"
        },
        {
         "mode": "lines",
         "name": "Incidência",
         "showlegend": false,
         "type": "scatter",
         "x": [
          1,
          2,
          3,
          4,
          5,
          6,
          7,
          8,
          9,
          10,
          11,
          12,
          13,
          14,
          15
         ],
         "xaxis": "x4",
         "y": [
          0,
          0,
          0,
          0,
          0,
          0,
          0,
          1,
          0,
          1,
          0,
          2,
          4,
          4,
          4
         ],
         "yaxis": "y4"
        },
        {
         "mode": "lines",
         "name": "Incidência",
         "showlegend": false,
         "type": "scatter",
         "x": [
          1,
          2,
          3,
          4,
          5,
          6,
          7,
          8,
          9,
          10,
          11,
          12,
          13,
          14,
          15
         ],
         "xaxis": "x5",
         "y": [
          0,
          1,
          1,
          0,
          0,
          0,
          2,
          0,
          0,
          1,
          1,
          0,
          0,
          0,
          0
         ],
         "yaxis": "y5"
        },
        {
         "mode": "lines",
         "name": "Incidência",
         "showlegend": false,
         "type": "scatter",
         "x": [
          1,
          2,
          3,
          4,
          5,
          6,
          7,
          8,
          9,
          10,
          11,
          12,
          13,
          14,
          15
         ],
         "xaxis": "x6",
         "y": [
          0,
          0,
          0,
          0,
          1,
          0,
          0,
          0,
          0,
          2,
          0,
          0,
          0,
          0,
          0
         ],
         "yaxis": "y6"
        },
        {
         "mode": "lines",
         "name": "Incidência",
         "showlegend": false,
         "type": "scatter",
         "x": [
          1,
          2,
          3,
          4,
          5,
          6,
          7,
          8,
          9,
          10,
          11,
          12,
          13,
          14,
          15
         ],
         "xaxis": "x7",
         "y": [
          0,
          0,
          0,
          0,
          1,
          0,
          0,
          1,
          0,
          0,
          1,
          0,
          0,
          1,
          0
         ],
         "yaxis": "y7"
        },
        {
         "mode": "lines",
         "name": "Incidência",
         "showlegend": false,
         "type": "scatter",
         "x": [
          1,
          2,
          3,
          4,
          5,
          6,
          7,
          8,
          9,
          10,
          11,
          12,
          13,
          14,
          15
         ],
         "xaxis": "x8",
         "y": [
          1,
          0,
          0,
          1,
          1,
          0,
          0,
          0,
          0,
          0,
          0,
          0,
          0,
          1,
          0
         ],
         "yaxis": "y8"
        },
        {
         "line": {
          "color": "rgb(166,206,227)"
         },
         "mode": "lines",
         "name": "Testes negativos",
         "type": "scatter",
         "x": [
          1,
          2,
          3,
          4,
          5,
          6,
          7,
          8,
          9,
          10,
          11,
          12,
          13,
          14,
          15
         ],
         "xaxis": "x1",
         "y": [
          18,
          10,
          9,
          13,
          15,
          8,
          13,
          16,
          24,
          15,
          23,
          30,
          22,
          25,
          14
         ],
         "yaxis": "y1"
        },
        {
         "line": {
          "color": "rgb(177,89,40)"
         },
         "mode": "lines",
         "name": "Casos sem teste laboratorial",
         "type": "scatter",
         "x": [
          1,
          2,
          3,
          4,
          5,
          6,
          7,
          8,
          9,
          10,
          11,
          12,
          13,
          14,
          15
         ],
         "xaxis": "x1",
         "y": [
          1,
          0,
          0,
          0,
          1,
          0,
          0,
          0,
          0,
          0,
          0,
          0,
          0,
          0,
          0
         ],
         "yaxis": "y1"
        },
        {
         "line": {
          "color": "rgb(255,255,153)"
         },
         "mode": "lines",
         "name": "Casos aguardando resultado",
         "type": "scatter",
         "x": [
          1,
          2,
          3,
          4,
          5,
          6,
          7,
          8,
          9,
          10,
          11,
          12,
          13,
          14,
          15
         ],
         "xaxis": "x1",
         "y": [
          0,
          0,
          0,
          0,
          0,
          0,
          0,
          0,
          0,
          0,
          0,
          0,
          0,
          0,
          0
         ],
         "yaxis": "y1"
        },
        {
         "line": {
          "color": "rgb(106,61,154)"
         },
         "mode": "lines",
         "name": "Casos sem informação laboratorial",
         "type": "scatter",
         "x": [
          1,
          2,
          3,
          4,
          5,
          6,
          7,
          8,
          9,
          10,
          11,
          12,
          13,
          14,
          15
         ],
         "xaxis": "x1",
         "y": [
          4,
          1,
          1,
          0,
          2,
          0,
          0,
          2,
          0,
          2,
          2,
          4,
          2,
          0,
          1
         ],
         "yaxis": "y1"
        }
       ],
       "layout": {
        "annotations": [
         {
          "font": {
           "size": 16
          },
          "showarrow": false,
          "text": "Situação dos exames",
          "x": 0.5,
          "xanchor": "center",
          "xref": "paper",
          "y": 1,
          "yanchor": "bottom",
          "yref": "paper"
         },
         {
          "font": {
           "size": 16
          },
          "showarrow": false,
          "text": "Influenza A",
          "x": 0.5,
          "xanchor": "center",
          "xref": "paper",
          "y": 0.8671875,
          "yanchor": "bottom",
          "yref": "paper"
         },
         {
          "font": {
           "size": 16
          },
          "showarrow": false,
          "text": "Influenza B",
          "x": 0.5,
          "xanchor": "center",
          "xref": "paper",
          "y": 0.734375,
          "yanchor": "bottom",
          "yref": "paper"
         },
         {
          "font": {
           "size": 16
          },
          "showarrow": false,
          "text": "VSR",
          "x": 0.5,
          "xanchor": "center",
          "xref": "paper",
          "y": 0.6015625,
          "yanchor": "bottom",
          "yref": "paper"
         },
         {
          "font": {
           "size": 16
          },
          "showarrow": false,
          "text": "Adenovirus",
          "x": 0.5,
          "xanchor": "center",
          "xref": "paper",
          "y": 0.46875,
          "yanchor": "bottom",
          "yref": "paper"
         },
         {
          "font": {
           "size": 16
          },
          "showarrow": false,
          "text": "Parainfluenza 1",
          "x": 0.5,
          "xanchor": "center",
          "xref": "paper",
          "y": 0.3359375,
          "yanchor": "bottom",
          "yref": "paper"
         },
         {
          "font": {
           "size": 16
          },
          "showarrow": false,
          "text": "Parainfluenza 2",
          "x": 0.5,
          "xanchor": "center",
          "xref": "paper",
          "y": 0.203125,
          "yanchor": "bottom",
          "yref": "paper"
         },
         {
          "font": {
           "size": 16
          },
          "showarrow": false,
          "text": "Parainfluenza 3",
          "x": 0.5,
          "xanchor": "center",
          "xref": "paper",
          "y": 0.0703125,
          "yanchor": "bottom",
          "yref": "paper"
         }
        ],
        "height": 1600,
        "title": "Exames laboratoriais - Rio Grande do Sul",
        "width": 800,
        "xaxis1": {
         "anchor": "y1",
         "domain": [
          0,
          1
         ],
         "range": [
          1,
          52
         ]
        },
        "xaxis2": {
         "anchor": "y2",
         "domain": [
          0,
          1
         ],
         "range": [
          1,
          52
         ]
        },
        "xaxis3": {
         "anchor": "y3",
         "domain": [
          0,
          1
         ],
         "range": [
          1,
          52
         ]
        },
        "xaxis4": {
         "anchor": "y4",
         "domain": [
          0,
          1
         ],
         "range": [
          1,
          52
         ]
        },
        "xaxis5": {
         "anchor": "y5",
         "domain": [
          0,
          1
         ],
         "range": [
          1,
          52
         ]
        },
        "xaxis6": {
         "anchor": "y6",
         "domain": [
          0,
          1
         ],
         "range": [
          1,
          52
         ]
        },
        "xaxis7": {
         "anchor": "y7",
         "domain": [
          0,
          1
         ],
         "range": [
          1,
          52
         ]
        },
        "xaxis8": {
         "anchor": "y8",
         "domain": [
          0,
          1
         ],
         "range": [
          1,
          52
         ],
         "showline": true,
         "title": "Semana epidemiológica",
         "zeroline": true
        },
        "yaxis1": {
         "anchor": "x1",
         "domain": [
          0.9296875,
          1
         ],
         "range": [
          0,
          30
         ],
         "rangemode": "nonnegative"
        },
        "yaxis2": {
         "anchor": "x2",
         "domain": [
          0.796875,
          0.8671875
         ],
         "range": [
          0,
          5
         ],
         "rangemode": "nonnegative"
        },
        "yaxis3": {
         "anchor": "x3",
         "domain": [
          0.6640625,
          0.734375
         ],
         "range": [
          0,
          5
         ],
         "rangemode": "nonnegative"
        },
        "yaxis4": {
         "anchor": "x4",
         "domain": [
          0.53125,
          0.6015625
         ],
         "range": [
          0,
          5
         ],
         "rangemode": "nonnegative",
         "title": "Incidência"
        },
        "yaxis5": {
         "anchor": "x5",
         "domain": [
          0.3984375,
          0.46875
         ],
         "range": [
          0,
          5
         ],
         "rangemode": "nonnegative"
        },
        "yaxis6": {
         "anchor": "x6",
         "domain": [
          0.265625,
          0.3359375
         ],
         "range": [
          0,
          5
         ],
         "rangemode": "nonnegative"
        },
        "yaxis7": {
         "anchor": "x7",
         "domain": [
          0.1328125,
          0.203125
         ],
         "range": [
          0,
          5
         ],
         "rangemode": "nonnegative"
        },
        "yaxis8": {
         "anchor": "x8",
         "domain": [
          0,
          0.0703125
         ],
         "range": [
          0,
          5
         ],
         "rangemode": "nonnegative"
        }
       }
      },
      "text/html": [
       "<div id=\"8cf040cd-37c8-4308-9940-b49a2e248280\" style=\"height: 1600px; width: 800px;\" class=\"plotly-graph-div\"></div><script type=\"text/javascript\">require([\"plotly\"], function(Plotly) { window.PLOTLYENV=window.PLOTLYENV || {};window.PLOTLYENV.BASE_URL=\"https://plot.ly\";Plotly.newPlot(\"8cf040cd-37c8-4308-9940-b49a2e248280\", [{\"type\": \"scatter\", \"x\": [1, 2, 3, 4, 5, 6, 7, 8, 9, 10, 11, 12, 13, 14, 15], \"y\": [3.0, 1.0, 1.0, 1.0, 4.0, 3.0, 2.0, 2.0, 0.0, 4.0, 3.0, 5.0, 4.0, 10.0, 6.0], \"name\": \"Testes positivos\", \"mode\": \"lines\", \"xaxis\": \"x1\", \"yaxis\": \"y1\"}, {\"type\": \"scatter\", \"x\": [1, 2, 3, 4, 5, 6, 7, 8, 9, 10, 11, 12, 13, 14, 15], \"y\": [1.0, 0.0, 0.0, 0.0, 1.0, 1.0, 0.0, 0.0, 0.0, 0.0, 1.0, 3.0, 0.0, 4.0, 2.0], \"name\": \"Incid\\u00eancia\", \"mode\": \"lines\", \"showlegend\": false, \"xaxis\": \"x2\", \"yaxis\": \"y2\"}, {\"type\": \"scatter\", \"x\": [1, 2, 3, 4, 5, 6, 7, 8, 9, 10, 11, 12, 13, 14, 15], \"y\": [1.0, 0.0, 0.0, 0.0, 0.0, 2.0, 0.0, 0.0, 0.0, 0.0, 0.0, 0.0, 0.0, 0.0, 0.0], \"name\": \"Incid\\u00eancia\", \"mode\": \"lines\", \"showlegend\": false, \"xaxis\": \"x3\", \"yaxis\": \"y3\"}, {\"type\": \"scatter\", \"x\": [1, 2, 3, 4, 5, 6, 7, 8, 9, 10, 11, 12, 13, 14, 15], \"y\": [0.0, 0.0, 0.0, 0.0, 0.0, 0.0, 0.0, 1.0, 0.0, 1.0, 0.0, 2.0, 4.0, 4.0, 4.0], \"name\": \"Incid\\u00eancia\", \"mode\": \"lines\", \"showlegend\": false, \"xaxis\": \"x4\", \"yaxis\": \"y4\"}, {\"type\": \"scatter\", \"x\": [1, 2, 3, 4, 5, 6, 7, 8, 9, 10, 11, 12, 13, 14, 15], \"y\": [0.0, 1.0, 1.0, 0.0, 0.0, 0.0, 2.0, 0.0, 0.0, 1.0, 1.0, 0.0, 0.0, 0.0, 0.0], \"name\": \"Incid\\u00eancia\", \"mode\": \"lines\", \"showlegend\": false, \"xaxis\": \"x5\", \"yaxis\": \"y5\"}, {\"type\": \"scatter\", \"x\": [1, 2, 3, 4, 5, 6, 7, 8, 9, 10, 11, 12, 13, 14, 15], \"y\": [0.0, 0.0, 0.0, 0.0, 1.0, 0.0, 0.0, 0.0, 0.0, 2.0, 0.0, 0.0, 0.0, 0.0, 0.0], \"name\": \"Incid\\u00eancia\", \"mode\": \"lines\", \"showlegend\": false, \"xaxis\": \"x6\", \"yaxis\": \"y6\"}, {\"type\": \"scatter\", \"x\": [1, 2, 3, 4, 5, 6, 7, 8, 9, 10, 11, 12, 13, 14, 15], \"y\": [0.0, 0.0, 0.0, 0.0, 1.0, 0.0, 0.0, 1.0, 0.0, 0.0, 1.0, 0.0, 0.0, 1.0, 0.0], \"name\": \"Incid\\u00eancia\", \"mode\": \"lines\", \"showlegend\": false, \"xaxis\": \"x7\", \"yaxis\": \"y7\"}, {\"type\": \"scatter\", \"x\": [1, 2, 3, 4, 5, 6, 7, 8, 9, 10, 11, 12, 13, 14, 15], \"y\": [1.0, 0.0, 0.0, 1.0, 1.0, 0.0, 0.0, 0.0, 0.0, 0.0, 0.0, 0.0, 0.0, 1.0, 0.0], \"name\": \"Incid\\u00eancia\", \"mode\": \"lines\", \"showlegend\": false, \"xaxis\": \"x8\", \"yaxis\": \"y8\"}, {\"type\": \"scatter\", \"x\": [1, 2, 3, 4, 5, 6, 7, 8, 9, 10, 11, 12, 13, 14, 15], \"y\": [18.0, 10.0, 9.0, 13.0, 15.0, 8.0, 13.0, 16.0, 24.0, 15.0, 23.0, 30.0, 22.0, 25.0, 14.0], \"name\": \"Testes negativos\", \"mode\": \"lines\", \"line\": {\"color\": \"rgb(166,206,227)\"}, \"xaxis\": \"x1\", \"yaxis\": \"y1\"}, {\"type\": \"scatter\", \"x\": [1, 2, 3, 4, 5, 6, 7, 8, 9, 10, 11, 12, 13, 14, 15], \"y\": [1.0, 0.0, 0.0, 0.0, 1.0, 0.0, 0.0, 0.0, 0.0, 0.0, 0.0, 0.0, 0.0, 0.0, 0.0], \"name\": \"Casos sem teste laboratorial\", \"mode\": \"lines\", \"line\": {\"color\": \"rgb(177,89,40)\"}, \"xaxis\": \"x1\", \"yaxis\": \"y1\"}, {\"type\": \"scatter\", \"x\": [1, 2, 3, 4, 5, 6, 7, 8, 9, 10, 11, 12, 13, 14, 15], \"y\": [0.0, 0.0, 0.0, 0.0, 0.0, 0.0, 0.0, 0.0, 0.0, 0.0, 0.0, 0.0, 0.0, 0.0, 0.0], \"name\": \"Casos aguardando resultado\", \"mode\": \"lines\", \"line\": {\"color\": \"rgb(255,255,153)\"}, \"xaxis\": \"x1\", \"yaxis\": \"y1\"}, {\"type\": \"scatter\", \"x\": [1, 2, 3, 4, 5, 6, 7, 8, 9, 10, 11, 12, 13, 14, 15], \"y\": [4.0, 1.0, 1.0, 0.0, 2.0, 0.0, 0.0, 2.0, 0.0, 2.0, 2.0, 4.0, 2.0, 0.0, 1.0], \"name\": \"Casos sem informa\\u00e7\\u00e3o laboratorial\", \"mode\": \"lines\", \"line\": {\"color\": \"rgb(106,61,154)\"}, \"xaxis\": \"x1\", \"yaxis\": \"y1\"}], {\"xaxis1\": {\"domain\": [0.0, 1.0], \"anchor\": \"y1\", \"range\": [1, 52]}, \"yaxis1\": {\"domain\": [0.9296875, 1.0], \"anchor\": \"x1\", \"range\": [0, 30.0], \"rangemode\": \"nonnegative\"}, \"xaxis2\": {\"domain\": [0.0, 1.0], \"anchor\": \"y2\", \"range\": [1, 52]}, \"yaxis2\": {\"domain\": [0.796875, 0.8671875], \"anchor\": \"x2\", \"range\": [0, 5.0], \"rangemode\": \"nonnegative\"}, \"xaxis3\": {\"domain\": [0.0, 1.0], \"anchor\": \"y3\", \"range\": [1, 52]}, \"yaxis3\": {\"domain\": [0.6640625, 0.734375], \"anchor\": \"x3\", \"range\": [0, 5.0], \"rangemode\": \"nonnegative\"}, \"xaxis4\": {\"domain\": [0.0, 1.0], \"anchor\": \"y4\", \"range\": [1, 52]}, \"yaxis4\": {\"domain\": [0.53125, 0.6015625], \"anchor\": \"x4\", \"range\": [0, 5.0], \"rangemode\": \"nonnegative\", \"title\": \"Incid\\u00eancia\"}, \"xaxis5\": {\"domain\": [0.0, 1.0], \"anchor\": \"y5\", \"range\": [1, 52]}, \"yaxis5\": {\"domain\": [0.3984375, 0.46875], \"anchor\": \"x5\", \"range\": [0, 5.0], \"rangemode\": \"nonnegative\"}, \"xaxis6\": {\"domain\": [0.0, 1.0], \"anchor\": \"y6\", \"range\": [1, 52]}, \"yaxis6\": {\"domain\": [0.265625, 0.3359375], \"anchor\": \"x6\", \"range\": [0, 5.0], \"rangemode\": \"nonnegative\"}, \"xaxis7\": {\"domain\": [0.0, 1.0], \"anchor\": \"y7\", \"range\": [1, 52]}, \"yaxis7\": {\"domain\": [0.1328125, 0.203125], \"anchor\": \"x7\", \"range\": [0, 5.0], \"rangemode\": \"nonnegative\"}, \"xaxis8\": {\"domain\": [0.0, 1.0], \"anchor\": \"y8\", \"range\": [1, 52], \"title\": \"Semana epidemiol\\u00f3gica\", \"zeroline\": true, \"showline\": true}, \"yaxis8\": {\"domain\": [0.0, 0.0703125], \"anchor\": \"x8\", \"range\": [0, 5.0], \"rangemode\": \"nonnegative\"}, \"annotations\": [{\"y\": 1.0, \"xref\": \"paper\", \"x\": 0.5, \"yref\": \"paper\", \"text\": \"Situa\\u00e7\\u00e3o dos exames\", \"showarrow\": false, \"font\": {\"size\": 16}, \"xanchor\": \"center\", \"yanchor\": \"bottom\"}, {\"y\": 0.8671875, \"xref\": \"paper\", \"x\": 0.5, \"yref\": \"paper\", \"text\": \"Influenza A\", \"showarrow\": false, \"font\": {\"size\": 16}, \"xanchor\": \"center\", \"yanchor\": \"bottom\"}, {\"y\": 0.734375, \"xref\": \"paper\", \"x\": 0.5, \"yref\": \"paper\", \"text\": \"Influenza B\", \"showarrow\": false, \"font\": {\"size\": 16}, \"xanchor\": \"center\", \"yanchor\": \"bottom\"}, {\"y\": 0.6015625, \"xref\": \"paper\", \"x\": 0.5, \"yref\": \"paper\", \"text\": \"VSR\", \"showarrow\": false, \"font\": {\"size\": 16}, \"xanchor\": \"center\", \"yanchor\": \"bottom\"}, {\"y\": 0.46875, \"xref\": \"paper\", \"x\": 0.5, \"yref\": \"paper\", \"text\": \"Adenovirus\", \"showarrow\": false, \"font\": {\"size\": 16}, \"xanchor\": \"center\", \"yanchor\": \"bottom\"}, {\"y\": 0.3359375, \"xref\": \"paper\", \"x\": 0.5, \"yref\": \"paper\", \"text\": \"Parainfluenza 1\", \"showarrow\": false, \"font\": {\"size\": 16}, \"xanchor\": \"center\", \"yanchor\": \"bottom\"}, {\"y\": 0.203125, \"xref\": \"paper\", \"x\": 0.5, \"yref\": \"paper\", \"text\": \"Parainfluenza 2\", \"showarrow\": false, \"font\": {\"size\": 16}, \"xanchor\": \"center\", \"yanchor\": \"bottom\"}, {\"y\": 0.0703125, \"xref\": \"paper\", \"x\": 0.5, \"yref\": \"paper\", \"text\": \"Parainfluenza 3\", \"showarrow\": false, \"font\": {\"size\": 16}, \"xanchor\": \"center\", \"yanchor\": \"bottom\"}], \"height\": 1600, \"width\": 800, \"title\": \"Exames laboratoriais - Rio Grande do Sul\"}, {\"showLink\": true, \"linkText\": \"Export to plot.ly\"})});</script>"
      ],
      "text/vnd.plotly.v1+html": [
       "<div id=\"8cf040cd-37c8-4308-9940-b49a2e248280\" style=\"height: 1600px; width: 800px;\" class=\"plotly-graph-div\"></div><script type=\"text/javascript\">require([\"plotly\"], function(Plotly) { window.PLOTLYENV=window.PLOTLYENV || {};window.PLOTLYENV.BASE_URL=\"https://plot.ly\";Plotly.newPlot(\"8cf040cd-37c8-4308-9940-b49a2e248280\", [{\"type\": \"scatter\", \"x\": [1, 2, 3, 4, 5, 6, 7, 8, 9, 10, 11, 12, 13, 14, 15], \"y\": [3.0, 1.0, 1.0, 1.0, 4.0, 3.0, 2.0, 2.0, 0.0, 4.0, 3.0, 5.0, 4.0, 10.0, 6.0], \"name\": \"Testes positivos\", \"mode\": \"lines\", \"xaxis\": \"x1\", \"yaxis\": \"y1\"}, {\"type\": \"scatter\", \"x\": [1, 2, 3, 4, 5, 6, 7, 8, 9, 10, 11, 12, 13, 14, 15], \"y\": [1.0, 0.0, 0.0, 0.0, 1.0, 1.0, 0.0, 0.0, 0.0, 0.0, 1.0, 3.0, 0.0, 4.0, 2.0], \"name\": \"Incid\\u00eancia\", \"mode\": \"lines\", \"showlegend\": false, \"xaxis\": \"x2\", \"yaxis\": \"y2\"}, {\"type\": \"scatter\", \"x\": [1, 2, 3, 4, 5, 6, 7, 8, 9, 10, 11, 12, 13, 14, 15], \"y\": [1.0, 0.0, 0.0, 0.0, 0.0, 2.0, 0.0, 0.0, 0.0, 0.0, 0.0, 0.0, 0.0, 0.0, 0.0], \"name\": \"Incid\\u00eancia\", \"mode\": \"lines\", \"showlegend\": false, \"xaxis\": \"x3\", \"yaxis\": \"y3\"}, {\"type\": \"scatter\", \"x\": [1, 2, 3, 4, 5, 6, 7, 8, 9, 10, 11, 12, 13, 14, 15], \"y\": [0.0, 0.0, 0.0, 0.0, 0.0, 0.0, 0.0, 1.0, 0.0, 1.0, 0.0, 2.0, 4.0, 4.0, 4.0], \"name\": \"Incid\\u00eancia\", \"mode\": \"lines\", \"showlegend\": false, \"xaxis\": \"x4\", \"yaxis\": \"y4\"}, {\"type\": \"scatter\", \"x\": [1, 2, 3, 4, 5, 6, 7, 8, 9, 10, 11, 12, 13, 14, 15], \"y\": [0.0, 1.0, 1.0, 0.0, 0.0, 0.0, 2.0, 0.0, 0.0, 1.0, 1.0, 0.0, 0.0, 0.0, 0.0], \"name\": \"Incid\\u00eancia\", \"mode\": \"lines\", \"showlegend\": false, \"xaxis\": \"x5\", \"yaxis\": \"y5\"}, {\"type\": \"scatter\", \"x\": [1, 2, 3, 4, 5, 6, 7, 8, 9, 10, 11, 12, 13, 14, 15], \"y\": [0.0, 0.0, 0.0, 0.0, 1.0, 0.0, 0.0, 0.0, 0.0, 2.0, 0.0, 0.0, 0.0, 0.0, 0.0], \"name\": \"Incid\\u00eancia\", \"mode\": \"lines\", \"showlegend\": false, \"xaxis\": \"x6\", \"yaxis\": \"y6\"}, {\"type\": \"scatter\", \"x\": [1, 2, 3, 4, 5, 6, 7, 8, 9, 10, 11, 12, 13, 14, 15], \"y\": [0.0, 0.0, 0.0, 0.0, 1.0, 0.0, 0.0, 1.0, 0.0, 0.0, 1.0, 0.0, 0.0, 1.0, 0.0], \"name\": \"Incid\\u00eancia\", \"mode\": \"lines\", \"showlegend\": false, \"xaxis\": \"x7\", \"yaxis\": \"y7\"}, {\"type\": \"scatter\", \"x\": [1, 2, 3, 4, 5, 6, 7, 8, 9, 10, 11, 12, 13, 14, 15], \"y\": [1.0, 0.0, 0.0, 1.0, 1.0, 0.0, 0.0, 0.0, 0.0, 0.0, 0.0, 0.0, 0.0, 1.0, 0.0], \"name\": \"Incid\\u00eancia\", \"mode\": \"lines\", \"showlegend\": false, \"xaxis\": \"x8\", \"yaxis\": \"y8\"}, {\"type\": \"scatter\", \"x\": [1, 2, 3, 4, 5, 6, 7, 8, 9, 10, 11, 12, 13, 14, 15], \"y\": [18.0, 10.0, 9.0, 13.0, 15.0, 8.0, 13.0, 16.0, 24.0, 15.0, 23.0, 30.0, 22.0, 25.0, 14.0], \"name\": \"Testes negativos\", \"mode\": \"lines\", \"line\": {\"color\": \"rgb(166,206,227)\"}, \"xaxis\": \"x1\", \"yaxis\": \"y1\"}, {\"type\": \"scatter\", \"x\": [1, 2, 3, 4, 5, 6, 7, 8, 9, 10, 11, 12, 13, 14, 15], \"y\": [1.0, 0.0, 0.0, 0.0, 1.0, 0.0, 0.0, 0.0, 0.0, 0.0, 0.0, 0.0, 0.0, 0.0, 0.0], \"name\": \"Casos sem teste laboratorial\", \"mode\": \"lines\", \"line\": {\"color\": \"rgb(177,89,40)\"}, \"xaxis\": \"x1\", \"yaxis\": \"y1\"}, {\"type\": \"scatter\", \"x\": [1, 2, 3, 4, 5, 6, 7, 8, 9, 10, 11, 12, 13, 14, 15], \"y\": [0.0, 0.0, 0.0, 0.0, 0.0, 0.0, 0.0, 0.0, 0.0, 0.0, 0.0, 0.0, 0.0, 0.0, 0.0], \"name\": \"Casos aguardando resultado\", \"mode\": \"lines\", \"line\": {\"color\": \"rgb(255,255,153)\"}, \"xaxis\": \"x1\", \"yaxis\": \"y1\"}, {\"type\": \"scatter\", \"x\": [1, 2, 3, 4, 5, 6, 7, 8, 9, 10, 11, 12, 13, 14, 15], \"y\": [4.0, 1.0, 1.0, 0.0, 2.0, 0.0, 0.0, 2.0, 0.0, 2.0, 2.0, 4.0, 2.0, 0.0, 1.0], \"name\": \"Casos sem informa\\u00e7\\u00e3o laboratorial\", \"mode\": \"lines\", \"line\": {\"color\": \"rgb(106,61,154)\"}, \"xaxis\": \"x1\", \"yaxis\": \"y1\"}], {\"xaxis1\": {\"domain\": [0.0, 1.0], \"anchor\": \"y1\", \"range\": [1, 52]}, \"yaxis1\": {\"domain\": [0.9296875, 1.0], \"anchor\": \"x1\", \"range\": [0, 30.0], \"rangemode\": \"nonnegative\"}, \"xaxis2\": {\"domain\": [0.0, 1.0], \"anchor\": \"y2\", \"range\": [1, 52]}, \"yaxis2\": {\"domain\": [0.796875, 0.8671875], \"anchor\": \"x2\", \"range\": [0, 5.0], \"rangemode\": \"nonnegative\"}, \"xaxis3\": {\"domain\": [0.0, 1.0], \"anchor\": \"y3\", \"range\": [1, 52]}, \"yaxis3\": {\"domain\": [0.6640625, 0.734375], \"anchor\": \"x3\", \"range\": [0, 5.0], \"rangemode\": \"nonnegative\"}, \"xaxis4\": {\"domain\": [0.0, 1.0], \"anchor\": \"y4\", \"range\": [1, 52]}, \"yaxis4\": {\"domain\": [0.53125, 0.6015625], \"anchor\": \"x4\", \"range\": [0, 5.0], \"rangemode\": \"nonnegative\", \"title\": \"Incid\\u00eancia\"}, \"xaxis5\": {\"domain\": [0.0, 1.0], \"anchor\": \"y5\", \"range\": [1, 52]}, \"yaxis5\": {\"domain\": [0.3984375, 0.46875], \"anchor\": \"x5\", \"range\": [0, 5.0], \"rangemode\": \"nonnegative\"}, \"xaxis6\": {\"domain\": [0.0, 1.0], \"anchor\": \"y6\", \"range\": [1, 52]}, \"yaxis6\": {\"domain\": [0.265625, 0.3359375], \"anchor\": \"x6\", \"range\": [0, 5.0], \"rangemode\": \"nonnegative\"}, \"xaxis7\": {\"domain\": [0.0, 1.0], \"anchor\": \"y7\", \"range\": [1, 52]}, \"yaxis7\": {\"domain\": [0.1328125, 0.203125], \"anchor\": \"x7\", \"range\": [0, 5.0], \"rangemode\": \"nonnegative\"}, \"xaxis8\": {\"domain\": [0.0, 1.0], \"anchor\": \"y8\", \"range\": [1, 52], \"title\": \"Semana epidemiol\\u00f3gica\", \"zeroline\": true, \"showline\": true}, \"yaxis8\": {\"domain\": [0.0, 0.0703125], \"anchor\": \"x8\", \"range\": [0, 5.0], \"rangemode\": \"nonnegative\"}, \"annotations\": [{\"y\": 1.0, \"xref\": \"paper\", \"x\": 0.5, \"yref\": \"paper\", \"text\": \"Situa\\u00e7\\u00e3o dos exames\", \"showarrow\": false, \"font\": {\"size\": 16}, \"xanchor\": \"center\", \"yanchor\": \"bottom\"}, {\"y\": 0.8671875, \"xref\": \"paper\", \"x\": 0.5, \"yref\": \"paper\", \"text\": \"Influenza A\", \"showarrow\": false, \"font\": {\"size\": 16}, \"xanchor\": \"center\", \"yanchor\": \"bottom\"}, {\"y\": 0.734375, \"xref\": \"paper\", \"x\": 0.5, \"yref\": \"paper\", \"text\": \"Influenza B\", \"showarrow\": false, \"font\": {\"size\": 16}, \"xanchor\": \"center\", \"yanchor\": \"bottom\"}, {\"y\": 0.6015625, \"xref\": \"paper\", \"x\": 0.5, \"yref\": \"paper\", \"text\": \"VSR\", \"showarrow\": false, \"font\": {\"size\": 16}, \"xanchor\": \"center\", \"yanchor\": \"bottom\"}, {\"y\": 0.46875, \"xref\": \"paper\", \"x\": 0.5, \"yref\": \"paper\", \"text\": \"Adenovirus\", \"showarrow\": false, \"font\": {\"size\": 16}, \"xanchor\": \"center\", \"yanchor\": \"bottom\"}, {\"y\": 0.3359375, \"xref\": \"paper\", \"x\": 0.5, \"yref\": \"paper\", \"text\": \"Parainfluenza 1\", \"showarrow\": false, \"font\": {\"size\": 16}, \"xanchor\": \"center\", \"yanchor\": \"bottom\"}, {\"y\": 0.203125, \"xref\": \"paper\", \"x\": 0.5, \"yref\": \"paper\", \"text\": \"Parainfluenza 2\", \"showarrow\": false, \"font\": {\"size\": 16}, \"xanchor\": \"center\", \"yanchor\": \"bottom\"}, {\"y\": 0.0703125, \"xref\": \"paper\", \"x\": 0.5, \"yref\": \"paper\", \"text\": \"Parainfluenza 3\", \"showarrow\": false, \"font\": {\"size\": 16}, \"xanchor\": \"center\", \"yanchor\": \"bottom\"}], \"height\": 1600, \"width\": 800, \"title\": \"Exames laboratoriais - Rio Grande do Sul\"}, {\"showLink\": true, \"linkText\": \"Export to plot.ly\"})});</script>"
      ]
     },
     "metadata": {},
     "output_type": "display_data"
    }
   ],
   "source": [
    "df = ethiological_timeseries(scale_id=1, territory_id=43, year=2017, week=15)\n",
    "ethio_ts(df, scale_id = 1, year=2017)"
   ]
  }
 ],
 "metadata": {
  "kernelspec": {
   "display_name": "Python [conda env:fludashboard-development]",
   "language": "python",
   "name": "conda-env-fludashboard-development-py"
  },
  "language_info": {
   "codemirror_mode": {
    "name": "ipython",
    "version": 3
   },
   "file_extension": ".py",
   "mimetype": "text/x-python",
   "name": "python",
   "nbconvert_exporter": "python",
   "pygments_lexer": "ipython3",
   "version": "3.6.2"
  }
 },
 "nbformat": 4,
 "nbformat_minor": 1
}
