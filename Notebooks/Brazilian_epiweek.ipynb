{
 "cells": [
  {
   "cell_type": "markdown",
   "metadata": {
    "toc": "true"
   },
   "source": [
    "# Table of Contents\n",
    " <p><div class=\"lev1 toc-item\"><a data-toc-modified-id=\"Using-Brazilian-epidemiological-week-definition-1\" href=\"#Using-Brazilian-epidemiological-week-definition\"><span class=\"toc-item-num\">1&nbsp;&nbsp;</span>Using Brazilian epidemiological week definition</a></div><div class=\"lev2 toc-item\"><a data-toc-modified-id=\"Import-module-episem-11\" href=\"#Import-module-episem\"><span class=\"toc-item-num\">1.1&nbsp;&nbsp;</span>Import module episem</a></div><div class=\"lev2 toc-item\"><a data-toc-modified-id=\"Example-1:-2016-10-31-12\" href=\"#Example-1:-2016-10-31\"><span class=\"toc-item-num\">1.2&nbsp;&nbsp;</span>Example 1: 2016-10-31</a></div><div class=\"lev3 toc-item\"><a data-toc-modified-id=\"Passing-string-121\" href=\"#Passing-string\"><span class=\"toc-item-num\">1.2.1&nbsp;&nbsp;</span>Passing string</a></div><div class=\"lev3 toc-item\"><a data-toc-modified-id=\"Passing-datetime.datetime-122\" href=\"#Passing-datetime.datetime\"><span class=\"toc-item-num\">1.2.2&nbsp;&nbsp;</span>Passing datetime.datetime</a></div><div class=\"lev2 toc-item\"><a data-toc-modified-id=\"Example-2:-2016-01-01-13\" href=\"#Example-2:-2016-01-01\"><span class=\"toc-item-num\">1.3&nbsp;&nbsp;</span>Example 2: 2016-01-01</a></div><div class=\"lev2 toc-item\"><a data-toc-modified-id=\"Example-3:-2017-01-01-14\" href=\"#Example-3:-2017-01-01\"><span class=\"toc-item-num\">1.4&nbsp;&nbsp;</span>Example 3: 2017-01-01</a></div><div class=\"lev2 toc-item\"><a data-toc-modified-id=\"Comparing-with-isocalendar-15\" href=\"#Comparing-with-isocalendar\"><span class=\"toc-item-num\">1.5&nbsp;&nbsp;</span>Comparing with isocalendar</a></div>"
   ]
  },
  {
   "cell_type": "markdown",
   "metadata": {},
   "source": [
    "# Using Brazilian epidemiological week definition"
   ]
  },
  {
   "cell_type": "markdown",
   "metadata": {},
   "source": [
    "Brazilian epidemiological week (epiweek) is definied from Sunday to Saturday.\n",
    "\n",
    "Wednesday is defined as the turning point for changing from one year to another and deciding wether Jan 1st is inlcuded in the first epiweek of the new year or still in the last epiweek of the previous one.\n",
    "That is, if the weekday of Jan 1st is between Sunday to Wednesday (included), then it is epiweek 01 of the new year. If the weekday is between Thursday-Saturday, then it falls in the last epiweek of the previous year (typically epiweek 52).\n",
    "\n",
    "The function epiweek takes both information into account to return the epiweek relative to a given date. Input can be a string in the format YYYY-MM-DD or type datetime.datetime\n",
    "\n",
    "See episem.py for details"
   ]
  },
  {
   "cell_type": "markdown",
   "metadata": {},
   "source": [
    "## Import module episem"
   ]
  },
  {
   "cell_type": "code",
   "execution_count": 2,
   "metadata": {
    "collapsed": true
   },
   "outputs": [],
   "source": [
    "from episem import episem"
   ]
  },
  {
   "cell_type": "markdown",
   "metadata": {},
   "source": [
    "## Example 1: 2016-10-31"
   ]
  },
  {
   "cell_type": "markdown",
   "metadata": {},
   "source": [
    "Function episem can take 1 to 3 inputs:\n",
    "\n",
    "    episem(x, sep='W', out='YW')\n",
    "    '''\n",
    "    @param x: date in format string YYYY-MM-DD or as datetime.datetime\n",
    "    @param sep: separator character\n",
    "    @param out: returned info. Y returns epiyear alone, W returns only epiweek and YW returns\n",
    "    epiyear and epiweek separated by sep\n",
    "    \n",
    "    returns str\n",
    "    '''"
   ]
  },
  {
   "cell_type": "markdown",
   "metadata": {},
   "source": [
    "### Passing string"
   ]
  },
  {
   "cell_type": "code",
   "execution_count": 5,
   "metadata": {
    "collapsed": true
   },
   "outputs": [],
   "source": [
    "d = '2010-10-01'"
   ]
  },
  {
   "cell_type": "code",
   "execution_count": 6,
   "metadata": {
    "collapsed": false
   },
   "outputs": [
    {
     "data": {
      "text/plain": [
       "'2010W39'"
      ]
     },
     "execution_count": 6,
     "metadata": {},
     "output_type": "execute_result"
    }
   ],
   "source": [
    "episem(d)"
   ]
  },
  {
   "cell_type": "code",
   "execution_count": 8,
   "metadata": {
    "collapsed": false
   },
   "outputs": [
    {
     "data": {
      "text/plain": [
       "'39'"
      ]
     },
     "execution_count": 8,
     "metadata": {},
     "output_type": "execute_result"
    }
   ],
   "source": [
    "episem(d,out='W')"
   ]
  },
  {
   "cell_type": "markdown",
   "metadata": {},
   "source": [
    "### Passing datetime.datetime"
   ]
  },
  {
   "cell_type": "code",
   "execution_count": 15,
   "metadata": {
    "collapsed": true
   },
   "outputs": [],
   "source": [
    "import datetime"
   ]
  },
  {
   "cell_type": "code",
   "execution_count": 16,
   "metadata": {
    "collapsed": false
   },
   "outputs": [
    {
     "data": {
      "text/plain": [
       "datetime.datetime(2010, 10, 1, 0, 0)"
      ]
     },
     "execution_count": 16,
     "metadata": {},
     "output_type": "execute_result"
    }
   ],
   "source": [
    "datetime.datetime.strptime(d, '%Y-%m-%d')"
   ]
  },
  {
   "cell_type": "code",
   "execution_count": 17,
   "metadata": {
    "collapsed": false
   },
   "outputs": [
    {
     "data": {
      "text/plain": [
       "'2010W39'"
      ]
     },
     "execution_count": 17,
     "metadata": {},
     "output_type": "execute_result"
    }
   ],
   "source": [
    "dt = datetime.datetime.strptime(d, '%Y-%m-%d')\n",
    "episem(dt)"
   ]
  },
  {
   "cell_type": "markdown",
   "metadata": {},
   "source": [
    "## Example 2: 2016-01-01"
   ]
  },
  {
   "cell_type": "markdown",
   "metadata": {},
   "source": [
    "2016-10-01 was a Friday, as can be seen by isoweekday function, which returns 1 for Monday and 7 for Sunday:"
   ]
  },
  {
   "cell_type": "code",
   "execution_count": 27,
   "metadata": {
    "collapsed": false
   },
   "outputs": [
    {
     "data": {
      "text/plain": [
       "5"
      ]
     },
     "execution_count": 27,
     "metadata": {},
     "output_type": "execute_result"
    }
   ],
   "source": [
    "dt2 = datetime.datetime.strptime('2016-01-01', '%Y-%m-%d')\n",
    "dt2.isoweekday()"
   ]
  },
  {
   "cell_type": "markdown",
   "metadata": {},
   "source": [
    "Therefore, according to Brazilian epiweek system, it should fall on the last epiweek of year 2105:"
   ]
  },
  {
   "cell_type": "code",
   "execution_count": 28,
   "metadata": {
    "collapsed": false
   },
   "outputs": [
    {
     "data": {
      "text/plain": [
       "'2015W52'"
      ]
     },
     "execution_count": 28,
     "metadata": {},
     "output_type": "execute_result"
    }
   ],
   "source": [
    "episem(dt2)"
   ]
  },
  {
   "cell_type": "markdown",
   "metadata": {},
   "source": [
    "## Example 3: 2017-01-01"
   ]
  },
  {
   "cell_type": "markdown",
   "metadata": {},
   "source": [
    "2017-10-01 is a Sunday. Therefore, it should fall on the first epiweek of 2017:"
   ]
  },
  {
   "cell_type": "code",
   "execution_count": 41,
   "metadata": {
    "collapsed": false
   },
   "outputs": [
    {
     "data": {
      "text/plain": [
       "7"
      ]
     },
     "execution_count": 41,
     "metadata": {},
     "output_type": "execute_result"
    }
   ],
   "source": [
    "dt3 = datetime.datetime.strptime('2017-01-01', '%Y-%m-%d')\n",
    "dt3.isoweekday()"
   ]
  },
  {
   "cell_type": "code",
   "execution_count": 42,
   "metadata": {
    "collapsed": false
   },
   "outputs": [
    {
     "data": {
      "text/plain": [
       "'2017W01'"
      ]
     },
     "execution_count": 42,
     "metadata": {},
     "output_type": "execute_result"
    }
   ],
   "source": [
    "episem(dt3)"
   ]
  },
  {
   "cell_type": "markdown",
   "metadata": {},
   "source": [
    "## Comparing with isocalendar"
   ]
  },
  {
   "cell_type": "markdown",
   "metadata": {},
   "source": [
    "The week of the year, according to ISO calendar, is calculated slightly different from the Brazilian epiweek system. Thefore, although for some days of the year it can be the same numeral, for others the results can differ. In particular, the base year change and the introduction or not of week 53 are very sensitive. We show here the comparison between the two systems for the dates already used to highlight this issue.\n",
    "\n",
    "The function isocalendar returns the base year, the week and the weekday for a given date."
   ]
  },
  {
   "cell_type": "code",
   "execution_count": 52,
   "metadata": {
    "collapsed": false
   },
   "outputs": [
    {
     "name": "stdout",
     "output_type": "stream",
     "text": [
      "Date: 2010-10-01\n",
      "ISO-calendar: (2010, 39, 5)\n",
      "BR-epiweek: 2010W39\n",
      "\n"
     ]
    }
   ],
   "source": [
    "print('Date: %s\\nISO-calendar: %s\\nBR-epiweek: %s\\n' % (dt.date(), dt.isocalendar(), episem(dt)))"
   ]
  },
  {
   "cell_type": "code",
   "execution_count": 53,
   "metadata": {
    "collapsed": false
   },
   "outputs": [
    {
     "name": "stdout",
     "output_type": "stream",
     "text": [
      "Date: 2016-01-01\n",
      "ISO-calendar: (2015, 53, 5)\n",
      "BR-epiweek: 2015W52\n",
      "\n"
     ]
    }
   ],
   "source": [
    "print('Date: %s\\nISO-calendar: %s\\nBR-epiweek: %s\\n' % (dt2.date(), dt2.isocalendar(), episem(dt2)))"
   ]
  },
  {
   "cell_type": "code",
   "execution_count": 54,
   "metadata": {
    "collapsed": false
   },
   "outputs": [
    {
     "name": "stdout",
     "output_type": "stream",
     "text": [
      "Date: 2017-01-01\n",
      "ISO-calendar: (2016, 52, 7)\n",
      "BR-epiweek: 2017W01\n",
      "\n"
     ]
    }
   ],
   "source": [
    "print('Date: %s\\nISO-calendar: %s\\nBR-epiweek: %s\\n' % (dt3.date(), dt3.isocalendar(), episem(dt3)))"
   ]
  }
 ],
 "metadata": {
  "kernelspec": {
   "display_name": "Python 3",
   "language": "python",
   "name": "python3"
  },
  "language_info": {
   "codemirror_mode": {
    "name": "ipython",
    "version": 3
   },
   "file_extension": ".py",
   "mimetype": "text/x-python",
   "name": "python",
   "nbconvert_exporter": "python",
   "pygments_lexer": "ipython3",
   "version": "3.4.3"
  },
  "toc": {
   "nav_menu": {
    "height": "175px",
    "width": "252px"
   },
   "navigate_menu": true,
   "number_sections": true,
   "sideBar": true,
   "threshold": 4,
   "toc_cell": true,
   "toc_section_display": "block",
   "toc_window_display": true
  }
 },
 "nbformat": 4,
 "nbformat_minor": 1
}
