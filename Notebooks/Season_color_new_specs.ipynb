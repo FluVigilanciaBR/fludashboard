{
 "cells": [
  {
   "cell_type": "markdown",
   "metadata": {},
   "source": [
    "# Table of Contents\n",
    "- [ Contingency plan levels ](#_contingency plan levels ) \n",
    "  - [ Check SRAG dataset situation](#_check srag dataset situation) \n",
    "  - [ Check SRAGFlu dataset situation](#_check sragflu dataset situation) \n",
    "  - [ Check ObitoFlu dataset situation](#_check obitoflu dataset situation) \n",
    "- [ Concise test](#_concise test) \n"
   ]
  },
  {
   "cell_type": "markdown",
   "metadata": {},
   "source": [
    "# Contingency plan levels <a name=\"_contingency plan levels\"></a>\n",
    "\n",
    "Basal: white\n",
    "\n",
    "Level 0: yellow <br>\n",
    "    SRAG cases ascending for the last 4 weeks AND with at least one of them inside alert zone.\n",
    "\n",
    "Level 1: orange <br>\n",
    "    SRAGFlu cases ascending for the last 4 weeks AND with at least one of them inside alert zone.\n",
    "\n",
    "Level 2: red <br>\n",
    "    ObitosFlu cases ascending for the last 3 weeks AND with at least one of them inside alert zone.<a name=\"_contingency plan levels: \"></a><a name=\"_contingency plan levels \"></a><a name=\"_contingency plan levels \"></a>"
   ]
  },
  {
   "cell_type": "code",
   "execution_count": 1,
   "metadata": {},
   "outputs": [],
   "source": [
    "import pandas as pd\n",
    "from fludashboard.libs.flu_data import FluDB\n",
    "fluDB = FluDB()"
   ]
  },
  {
   "cell_type": "code",
   "execution_count": 2,
   "metadata": {},
   "outputs": [],
   "source": [
    "territory_name = 'Rio Grande do Sul'\n",
    "year=2016\n",
    "territory_id = fluDB.get_territory_id_from_name(territory_name)\n",
    "dataset_from_id = {\n",
    "    1: 'srag',\n",
    "    2: 'sragflu',\n",
    "    3: 'obitoflu'\n",
    "}"
   ]
  },
  {
   "cell_type": "code",
   "execution_count": 3,
   "metadata": {},
   "outputs": [],
   "source": [
    "def contingency_alert(dataset_id: int, year: int, territory_id: int):\n",
    "    df = fluDB.get_data(dataset_id=dataset_id, scale_id=1, year=year, territory_id=territory_id)\n",
    "    \n",
    "    # If not obitoflu dataset (3), uses last 4 weeks, o.w. use 3:\n",
    "    if dataset_id < 3:\n",
    "        wdw = 4\n",
    "    else:\n",
    "        wdw = 3\n",
    "        \n",
    "    alert_zone = any(df.estimated_cases[-wdw:] > df.typical_high[-wdw:])\n",
    "    data_increase = all(df.estimated_cases[-wdw:].values - df.estimated_cases[-(wdw+1):-1].values > 0)\n",
    "    \n",
    "    print('''\n",
    "    Data: %s\n",
    "    Entered alert zone? %s\n",
    "    Steady increase in the window of interest? %s\n",
    "    Trigger alert? %s\n",
    "    ''' % (dataset_from_id[dataset_id], alert_zone, data_increase, alert_zone & data_increase)\n",
    "    )\n",
    "    \n",
    "    return(alert_zone & data_increase)"
   ]
  },
  {
   "cell_type": "markdown",
   "metadata": {},
   "source": [
    "## Check SRAG dataset situation<a name=\"_check srag dataset situation\"></a>"
   ]
  },
  {
   "cell_type": "code",
   "execution_count": 4,
   "metadata": {},
   "outputs": [
    {
     "name": "stdout",
     "output_type": "stream",
     "text": [
      "\n",
      "    Data: srag\n",
      "    Entered alert zone? True\n",
      "    Steady increase in the window of interest? False\n",
      "    Trigger alert? False\n",
      "    \n"
     ]
    },
    {
     "data": {
      "text/plain": [
       "False"
      ]
     },
     "execution_count": 4,
     "metadata": {},
     "output_type": "execute_result"
    }
   ],
   "source": [
    "yellow_alert = contingency_alert(dataset_id=1, year=year, territory_id=territory_id)\n",
    "yellow_alert"
   ]
  },
  {
   "cell_type": "markdown",
   "metadata": {},
   "source": [
    "## Check SRAGFlu dataset situation<a name=\"_check sragflu dataset situation\"></a>"
   ]
  },
  {
   "cell_type": "code",
   "execution_count": 5,
   "metadata": {},
   "outputs": [
    {
     "name": "stdout",
     "output_type": "stream",
     "text": [
      "\n",
      "    Data: sragflu\n",
      "    Entered alert zone? True\n",
      "    Steady increase in the window of interest? False\n",
      "    Trigger alert? False\n",
      "    \n"
     ]
    },
    {
     "data": {
      "text/plain": [
       "False"
      ]
     },
     "execution_count": 5,
     "metadata": {},
     "output_type": "execute_result"
    }
   ],
   "source": [
    "orange_alert = contingency_alert(dataset_id=2, year=year, territory_id=territory_id)\n",
    "orange_alert"
   ]
  },
  {
   "cell_type": "markdown",
   "metadata": {},
   "source": [
    "## Check ObitoFlu dataset situation<a name=\"_check obitoflu dataset situation\"></a>"
   ]
  },
  {
   "cell_type": "code",
   "execution_count": 6,
   "metadata": {},
   "outputs": [
    {
     "name": "stdout",
     "output_type": "stream",
     "text": [
      "\n",
      "    Data: obitoflu\n",
      "    Entered alert zone? True\n",
      "    Steady increase in the window of interest? False\n",
      "    Trigger alert? False\n",
      "    \n"
     ]
    },
    {
     "data": {
      "text/plain": [
       "False"
      ]
     },
     "execution_count": 6,
     "metadata": {},
     "output_type": "execute_result"
    }
   ],
   "source": [
    "red_alert = contingency_alert(dataset_id=3, year=year, territory_id=territory_id)\n",
    "red_alert"
   ]
  },
  {
   "cell_type": "markdown",
   "metadata": {},
   "source": [
    "# Concise test<a name=\"_concise test\"></a>"
   ]
  },
  {
   "cell_type": "code",
   "execution_count": 7,
   "metadata": {},
   "outputs": [],
   "source": [
    "contingency_name_from_id = {\n",
    "    0: 'Nível basal',\n",
    "    1: 'Nível 0',\n",
    "    2: 'Nível 1',\n",
    "    3: 'Nível 2',    \n",
    "}\n",
    "\n",
    "def alert_trigger(dataset_id: int, year: int, territory_id: int):\n",
    "    df = fluDB.get_data(dataset_id=dataset_id, scale_id=1, year=year, territory_id=territory_id)\n",
    "\n",
    "    # If not obitoflu dataset (3), uses last 4 weeks, o.w. use 3:\n",
    "    if dataset_id < 3:\n",
    "        wdw = 4\n",
    "    else:\n",
    "        wdw = 3\n",
    "\n",
    "    alert_zone = any(df.estimated_cases[-wdw:] > df.typical_high[-wdw:])\n",
    "    data_increase = all(df.estimated_cases[-wdw:].values - df.estimated_cases[-(wdw+1):-1].values > 0)\n",
    "\n",
    "    return(alert_zone & data_increase)\n",
    "\n",
    "\n",
    "def contingency_level(year: int, territory_id: int):\n",
    "    \n",
    "    if alert_trigger(dataset_id=3, year=year, territory_id=territory_id):\n",
    "        return(3)\n",
    "    elif alert_trigger(dataset_id=2, year=year, territory_id=territory_id):\n",
    "        return(2)\n",
    "    elif alert_trigger(dataset_id=1, year=year, territory_id=territory_id):\n",
    "        return(1)\n",
    "    else:\n",
    "        return(0)"
   ]
  },
  {
   "cell_type": "code",
   "execution_count": 8,
   "metadata": {},
   "outputs": [
    {
     "data": {
      "text/plain": [
       "'Nível basal'"
      ]
     },
     "execution_count": 8,
     "metadata": {},
     "output_type": "execute_result"
    }
   ],
   "source": [
    "contingency_name_from_id[contingency_level(year=year, territory_id=territory_id)]"
   ]
  }
 ],
 "metadata": {
  "kernelspec": {
   "display_name": "Python [conda env:fludashboard-development]",
   "language": "python",
   "name": "conda-env-fludashboard-development-py"
  },
  "language_info": {
   "codemirror_mode": {
    "name": "ipython",
    "version": 3
   },
   "file_extension": ".py",
   "mimetype": "text/x-python",
   "name": "python",
   "nbconvert_exporter": "python",
   "pygments_lexer": "ipython3",
   "version": "3.6.2"
  }
 },
 "nbformat": 4,
 "nbformat_minor": 2
}
