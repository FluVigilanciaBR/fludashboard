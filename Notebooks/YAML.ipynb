{
 "cells": [
  {
   "cell_type": "code",
   "execution_count": 1,
   "metadata": {},
   "outputs": [],
   "source": [
    "import os\n",
    "import yaml"
   ]
  },
  {
   "cell_type": "code",
   "execution_count": 2,
   "metadata": {},
   "outputs": [
    {
     "name": "stdout",
     "output_type": "stream",
     "text": [
      "using `/home/xmn/.flu.yaml` path\n"
     ]
    }
   ],
   "source": [
    "home_path = os.path.expanduser(\"~\")\n",
    "settings_path = os.path.join(home_path, '.flu.yaml')\n",
    "print('using `%s` path' % settings_path)"
   ]
  },
  {
   "cell_type": "code",
   "execution_count": 3,
   "metadata": {},
   "outputs": [],
   "source": [
    "# create yaml file\n",
    "if not os.path.exists(settings_path):\n",
    "    settings_yaml = {\n",
    "        'WSGI_NUM_WORKERS': 4,\n",
    "        'WSGI_HOST': '0.0.0.0',\n",
    "        'WSGI_PORT': '8000',\n",
    "        'WSGI_FLU_LOG': '.flu.log',\n",
    "        'APP_HOST': '0.0.0.0',\n",
    "        'APP_PORT': '5000',\n",
    "        'DEBUG': False,\n",
    "        'DATABASE': {\n",
    "            'NAME': '<DATABASE_HERE>',\n",
    "            'USER': '<DATABASE_USER_HERE>',\n",
    "            'PASSWORD': '<DATABASE_PASSWORD_HERE>',\n",
    "            'HOST': '<DATABASE_HOST_HERE>',\n",
    "            'PORT': '<DATABASE_PORT_HERE>'\n",
    "        }\n",
    "    }\n",
    "    \n",
    "    with open(os.path.join(settings_path), 'w') as f:\n",
    "        yaml.dump(settings_yaml, f, default_flow_style=False)"
   ]
  },
  {
   "cell_type": "code",
   "execution_count": 4,
   "metadata": {},
   "outputs": [
    {
     "name": "stdout",
     "output_type": "stream",
     "text": [
      "{'HOST': '<DATABASE_HOST_HERE>', 'NAME': '<DATABASE_HERE>', 'PASSWORD': '<DATABASE_PASSWORD_HERE>', 'PORT': '<DATABASE_PORT_HERE>', 'USER': '<DATABASE_USER_HERE>'}\n"
     ]
    }
   ],
   "source": [
    "# load yaml file\n",
    "if os.path.exists(settings_path):\n",
    "    with open(os.path.join(settings_path), 'r') as f:\n",
    "        globals().update(yaml.load(f))\n",
    "    print(DATABASE)"
   ]
  }
 ],
 "metadata": {
  "kernelspec": {
   "display_name": "Python 3",
   "language": "python",
   "name": "python3"
  },
  "language_info": {
   "codemirror_mode": {
    "name": "ipython",
    "version": 3
   },
   "file_extension": ".py",
   "mimetype": "text/x-python",
   "name": "python",
   "nbconvert_exporter": "python",
   "pygments_lexer": "ipython3",
   "version": "3.6.2"
  }
 },
 "nbformat": 4,
 "nbformat_minor": 2
}
