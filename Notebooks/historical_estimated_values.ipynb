{
 "cells": [
  {
   "cell_type": "markdown",
   "metadata": {
    "toc": "true"
   },
   "source": [
    "# Table of Contents\n",
    "- [ Detailed panel](#_detailed panel) \n",
    "  - [ Weekly incidence curve with typical intensity and thresholds](#_weekly incidence curve with typical intensity and thresholds) \n",
    "    - [ Function for incidence plot:](#_function for incidence plot:) \n",
    "    - [ State example](#_state example) \n",
    "    - [ Regional example](#_regional example) \n",
    "    - [  Example with state where estimates are not available:](#_ example with state where estimates are not available:) \n",
    "  - [ Obtaining the most probable activity level at selected week](#_obtaining the most probable activity level at selected week) \n",
    "  - [ Age distribution](#_age distribution) \n",
    "    - [ Function for age distribution plot:](#_function for age distribution plot:) \n",
    "  - [ Incidence table information](#_incidence table information) \n",
    "- [ Summary panel](#_summary panel) \n",
    "  - [ Season level categorization:](#_season level categorization:) \n",
    "    - [ Function to calculate seasonal level](#_function to calculate seasonal level) \n",
    "    - [ Example applying to a given entry](#_example applying to a given entry) \n",
    "    - [ Applying to the whole dataset](#_applying to the whole dataset) \n",
    "  - [ Seasonal age distribution](#_seasonal age distribution) \n",
    "  - [ Incidence table information](#_incidence table information) \n",
    "  - [ Displaying data for user selected week](#_historical data display)\n"
   ]
  },
  {
   "cell_type": "markdown",
   "metadata": {},
   "source": [
    "# Detailed panel<a name=\"_detailed panel\"></a>"
   ]
  },
  {
   "cell_type": "markdown",
   "metadata": {},
   "source": [
    "## Weekly incidence curve with typical intensity and thresholds<a name=\"_weekly incidence curve with typical intensity and thresholds\"></a>"
   ]
  },
  {
   "cell_type": "code",
   "execution_count": 1,
   "metadata": {},
   "outputs": [],
   "source": [
    "# local\n",
    "from fludashboard.libs.flu_data import prepare_keys_name\n",
    "\n",
    "import matplotlib.pyplot as plt\n",
    "import pandas as pd\n",
    "import numpy as np"
   ]
  },
  {
   "cell_type": "markdown",
   "metadata": {},
   "source": [
    "In this example, we show the current year incidence up to given week.<br>\n",
    "\n",
    "Along with the current incidence, we present the following intensity thresholds:<br>\n",
    "\n",
    "* Low activity threshold: estimated epidemic threshold based on historical levels. Minimum: incidence equivalent to 5 cases.\n",
    "\n",
    "* High activity threshold: incidence considered high based on historical levels. Minimum: incidence equivalent to 10 cases.\n",
    "\n",
    "* Very high activity threshold: incidence considered very high based on historical levels. Minimum: incidence equivalent to 20 cases."
   ]
  },
  {
   "cell_type": "code",
   "execution_count": 2,
   "metadata": {},
   "outputs": [],
   "source": [
    "df_hist = pd.read_csv('../data/historical_estimated_values.csv', encoding='utf-8')\n",
    "df_inci = pd.read_csv('../data/current_estimated_values.csv', encoding='utf-8')\n",
    "df_typi = pd.read_csv('../data/mem-typical.csv', encoding='utf-8')\n",
    "df_thre = pd.read_csv('../data/mem-report.csv', encoding='utf-8')\n",
    "\n",
    "prepare_keys_name(df_hist)\n",
    "prepare_keys_name(df_inci)\n",
    "prepare_keys_name(df_typi)\n",
    "prepare_keys_name(df_thre)\n",
    "\n",
    "level_dict = {\n",
    "    'L0': 'Baixa', \n",
    "    'L1': 'Epidêmica',\n",
    "    'L2': 'Alta', \n",
    "    'L3': 'Muito alta'\n",
    "}"
   ]
  },
  {
   "cell_type": "code",
   "execution_count": 3,
   "metadata": {},
   "outputs": [
    {
     "data": {
      "text/plain": [
       "Index(['uf', 'epiyear', 'epiweek', 'srag', 'tipo', 'situation', 'mean', '50%',\n",
       "       '2.5%', '97.5%', 'l0', 'l1', 'l2', 'l3', 'run_date', 'dado', 'escala'],\n",
       "      dtype='object')"
      ]
     },
     "execution_count": 3,
     "metadata": {},
     "output_type": "execute_result"
    }
   ],
   "source": [
    "df_inci.columns"
   ]
  },
  {
   "cell_type": "markdown",
   "metadata": {},
   "source": [
    "- UF: locality code (includes UFs, Regions and Country)\n",
    "- Tipo: locality type (Estado, Regional or País)\n",
    "- mean: estimated mean incidence\n",
    "- 50%: estimated median\n",
    "- 2.5%: estimation lower 95% confidence interval\n",
    "- 97.5%: estimation upper 95% confidence interval\n",
    "- L0: probability of being below epi. threshold (low level)\n",
    "- L1: probability of being above epi. threshold and below high activity (epidemic level)\n",
    "- L2: prob. of being above high activity and below very high (high level)\n",
    "- L3: prob. of being above very high activity threshold (very high level)\n",
    "- Situation:\n",
    "    - stable: might suffer minor changes in the future. Reliable as is;\n",
    "    - estimated: data estimated based on opportunity (i.e. notification delay) profile. Reliable within confidence interval;\n",
    "    - unknown: might suffer significant changes in the coming weeks. This is the case for locations where estimation is not possible and data is still \"fresh\". Unreliable."
   ]
  },
  {
   "cell_type": "code",
   "execution_count": 4,
   "metadata": {},
   "outputs": [
    {
     "data": {
      "text/html": [
       "<div>\n",
       "<style>\n",
       "    .dataframe thead tr:only-child th {\n",
       "        text-align: right;\n",
       "    }\n",
       "\n",
       "    .dataframe thead th {\n",
       "        text-align: left;\n",
       "    }\n",
       "\n",
       "    .dataframe tbody tr th {\n",
       "        vertical-align: top;\n",
       "    }\n",
       "</style>\n",
       "<table border=\"1\" class=\"dataframe\">\n",
       "  <thead>\n",
       "    <tr style=\"text-align: right;\">\n",
       "      <th></th>\n",
       "      <th>uf</th>\n",
       "      <th>epiyear</th>\n",
       "      <th>epiweek</th>\n",
       "      <th>srag</th>\n",
       "      <th>tipo</th>\n",
       "      <th>situation</th>\n",
       "      <th>mean</th>\n",
       "      <th>50%</th>\n",
       "      <th>2.5%</th>\n",
       "      <th>97.5%</th>\n",
       "      <th>l0</th>\n",
       "      <th>l1</th>\n",
       "      <th>l2</th>\n",
       "      <th>l3</th>\n",
       "      <th>run_date</th>\n",
       "      <th>dado</th>\n",
       "      <th>escala</th>\n",
       "    </tr>\n",
       "  </thead>\n",
       "  <tbody>\n",
       "    <tr>\n",
       "      <th>0</th>\n",
       "      <td>11</td>\n",
       "      <td>2009</td>\n",
       "      <td>1</td>\n",
       "      <td>0.0</td>\n",
       "      <td>Estado</td>\n",
       "      <td>stable</td>\n",
       "      <td>0.0</td>\n",
       "      <td>0.0</td>\n",
       "      <td>0.0</td>\n",
       "      <td>0.0</td>\n",
       "      <td>1.0</td>\n",
       "      <td>0.0</td>\n",
       "      <td>0.0</td>\n",
       "      <td>0.0</td>\n",
       "      <td>2017-10-11</td>\n",
       "      <td>srag</td>\n",
       "      <td>incidência</td>\n",
       "    </tr>\n",
       "    <tr>\n",
       "      <th>1</th>\n",
       "      <td>11</td>\n",
       "      <td>2009</td>\n",
       "      <td>2</td>\n",
       "      <td>0.0</td>\n",
       "      <td>Estado</td>\n",
       "      <td>stable</td>\n",
       "      <td>0.0</td>\n",
       "      <td>0.0</td>\n",
       "      <td>0.0</td>\n",
       "      <td>0.0</td>\n",
       "      <td>1.0</td>\n",
       "      <td>0.0</td>\n",
       "      <td>0.0</td>\n",
       "      <td>0.0</td>\n",
       "      <td>2017-10-11</td>\n",
       "      <td>srag</td>\n",
       "      <td>incidência</td>\n",
       "    </tr>\n",
       "    <tr>\n",
       "      <th>2</th>\n",
       "      <td>11</td>\n",
       "      <td>2009</td>\n",
       "      <td>3</td>\n",
       "      <td>0.0</td>\n",
       "      <td>Estado</td>\n",
       "      <td>stable</td>\n",
       "      <td>0.0</td>\n",
       "      <td>0.0</td>\n",
       "      <td>0.0</td>\n",
       "      <td>0.0</td>\n",
       "      <td>1.0</td>\n",
       "      <td>0.0</td>\n",
       "      <td>0.0</td>\n",
       "      <td>0.0</td>\n",
       "      <td>2017-10-11</td>\n",
       "      <td>srag</td>\n",
       "      <td>incidência</td>\n",
       "    </tr>\n",
       "    <tr>\n",
       "      <th>3</th>\n",
       "      <td>11</td>\n",
       "      <td>2009</td>\n",
       "      <td>4</td>\n",
       "      <td>0.0</td>\n",
       "      <td>Estado</td>\n",
       "      <td>stable</td>\n",
       "      <td>0.0</td>\n",
       "      <td>0.0</td>\n",
       "      <td>0.0</td>\n",
       "      <td>0.0</td>\n",
       "      <td>1.0</td>\n",
       "      <td>0.0</td>\n",
       "      <td>0.0</td>\n",
       "      <td>0.0</td>\n",
       "      <td>2017-10-11</td>\n",
       "      <td>srag</td>\n",
       "      <td>incidência</td>\n",
       "    </tr>\n",
       "    <tr>\n",
       "      <th>4</th>\n",
       "      <td>11</td>\n",
       "      <td>2009</td>\n",
       "      <td>5</td>\n",
       "      <td>0.0</td>\n",
       "      <td>Estado</td>\n",
       "      <td>stable</td>\n",
       "      <td>0.0</td>\n",
       "      <td>0.0</td>\n",
       "      <td>0.0</td>\n",
       "      <td>0.0</td>\n",
       "      <td>1.0</td>\n",
       "      <td>0.0</td>\n",
       "      <td>0.0</td>\n",
       "      <td>0.0</td>\n",
       "      <td>2017-10-11</td>\n",
       "      <td>srag</td>\n",
       "      <td>incidência</td>\n",
       "    </tr>\n",
       "  </tbody>\n",
       "</table>\n",
       "</div>"
      ],
      "text/plain": [
       "   uf  epiyear  epiweek  srag    tipo situation  mean  50%  2.5%  97.5%   l0  \\\n",
       "0  11     2009        1   0.0  Estado    stable   0.0  0.0   0.0    0.0  1.0   \n",
       "1  11     2009        2   0.0  Estado    stable   0.0  0.0   0.0    0.0  1.0   \n",
       "2  11     2009        3   0.0  Estado    stable   0.0  0.0   0.0    0.0  1.0   \n",
       "3  11     2009        4   0.0  Estado    stable   0.0  0.0   0.0    0.0  1.0   \n",
       "4  11     2009        5   0.0  Estado    stable   0.0  0.0   0.0    0.0  1.0   \n",
       "\n",
       "    l1   l2   l3    run_date  dado      escala  \n",
       "0  0.0  0.0  0.0  2017-10-11  srag  incidência  \n",
       "1  0.0  0.0  0.0  2017-10-11  srag  incidência  \n",
       "2  0.0  0.0  0.0  2017-10-11  srag  incidência  \n",
       "3  0.0  0.0  0.0  2017-10-11  srag  incidência  \n",
       "4  0.0  0.0  0.0  2017-10-11  srag  incidência  "
      ]
     },
     "execution_count": 4,
     "metadata": {},
     "output_type": "execute_result"
    }
   ],
   "source": [
    "df_inci.head(5)"
   ]
  },
  {
   "cell_type": "code",
   "execution_count": 5,
   "metadata": {},
   "outputs": [
    {
     "data": {
      "text/html": [
       "<div>\n",
       "<style>\n",
       "    .dataframe thead tr:only-child th {\n",
       "        text-align: right;\n",
       "    }\n",
       "\n",
       "    .dataframe thead th {\n",
       "        text-align: left;\n",
       "    }\n",
       "\n",
       "    .dataframe tbody tr th {\n",
       "        vertical-align: top;\n",
       "    }\n",
       "</style>\n",
       "<table border=\"1\" class=\"dataframe\">\n",
       "  <thead>\n",
       "    <tr style=\"text-align: right;\">\n",
       "      <th></th>\n",
       "      <th>uf</th>\n",
       "      <th>populacao</th>\n",
       "      <th>epiweek</th>\n",
       "      <th>corredor_baixo</th>\n",
       "      <th>corredor_mediano</th>\n",
       "      <th>corredor_alto</th>\n",
       "      <th>ano</th>\n",
       "      <th>unidade_da_federacao</th>\n",
       "      <th>tipo</th>\n",
       "      <th>dado</th>\n",
       "      <th>escala</th>\n",
       "    </tr>\n",
       "  </thead>\n",
       "  <tbody>\n",
       "    <tr>\n",
       "      <th>0</th>\n",
       "      <td>11</td>\n",
       "      <td>1805788</td>\n",
       "      <td>1</td>\n",
       "      <td>0.0</td>\n",
       "      <td>0.013703</td>\n",
       "      <td>0.041109</td>\n",
       "      <td>2017</td>\n",
       "      <td>Rondônia</td>\n",
       "      <td>Estado</td>\n",
       "      <td>srag</td>\n",
       "      <td>incidência</td>\n",
       "    </tr>\n",
       "    <tr>\n",
       "      <th>1</th>\n",
       "      <td>11</td>\n",
       "      <td>1805788</td>\n",
       "      <td>2</td>\n",
       "      <td>0.0</td>\n",
       "      <td>0.000000</td>\n",
       "      <td>0.000000</td>\n",
       "      <td>2017</td>\n",
       "      <td>Rondônia</td>\n",
       "      <td>Estado</td>\n",
       "      <td>srag</td>\n",
       "      <td>incidência</td>\n",
       "    </tr>\n",
       "    <tr>\n",
       "      <th>2</th>\n",
       "      <td>11</td>\n",
       "      <td>1805788</td>\n",
       "      <td>3</td>\n",
       "      <td>0.0</td>\n",
       "      <td>0.075776</td>\n",
       "      <td>0.241352</td>\n",
       "      <td>2017</td>\n",
       "      <td>Rondônia</td>\n",
       "      <td>Estado</td>\n",
       "      <td>srag</td>\n",
       "      <td>incidência</td>\n",
       "    </tr>\n",
       "    <tr>\n",
       "      <th>3</th>\n",
       "      <td>11</td>\n",
       "      <td>1805788</td>\n",
       "      <td>4</td>\n",
       "      <td>0.0</td>\n",
       "      <td>0.027742</td>\n",
       "      <td>0.060064</td>\n",
       "      <td>2017</td>\n",
       "      <td>Rondônia</td>\n",
       "      <td>Estado</td>\n",
       "      <td>srag</td>\n",
       "      <td>incidência</td>\n",
       "    </tr>\n",
       "    <tr>\n",
       "      <th>4</th>\n",
       "      <td>11</td>\n",
       "      <td>1805788</td>\n",
       "      <td>5</td>\n",
       "      <td>0.0</td>\n",
       "      <td>0.056723</td>\n",
       "      <td>0.124858</td>\n",
       "      <td>2017</td>\n",
       "      <td>Rondônia</td>\n",
       "      <td>Estado</td>\n",
       "      <td>srag</td>\n",
       "      <td>incidência</td>\n",
       "    </tr>\n",
       "  </tbody>\n",
       "</table>\n",
       "</div>"
      ],
      "text/plain": [
       "   uf  populacao  epiweek  corredor_baixo  corredor_mediano  corredor_alto  \\\n",
       "0  11    1805788        1             0.0          0.013703       0.041109   \n",
       "1  11    1805788        2             0.0          0.000000       0.000000   \n",
       "2  11    1805788        3             0.0          0.075776       0.241352   \n",
       "3  11    1805788        4             0.0          0.027742       0.060064   \n",
       "4  11    1805788        5             0.0          0.056723       0.124858   \n",
       "\n",
       "    ano unidade_da_federacao    tipo  dado      escala  \n",
       "0  2017             Rondônia  Estado  srag  incidência  \n",
       "1  2017             Rondônia  Estado  srag  incidência  \n",
       "2  2017             Rondônia  Estado  srag  incidência  \n",
       "3  2017             Rondônia  Estado  srag  incidência  \n",
       "4  2017             Rondônia  Estado  srag  incidência  "
      ]
     },
     "execution_count": 5,
     "metadata": {},
     "output_type": "execute_result"
    }
   ],
   "source": [
    "df_typi.head(5)"
   ]
  },
  {
   "cell_type": "code",
   "execution_count": 6,
   "metadata": {
    "scrolled": true
   },
   "outputs": [
    {
     "data": {
      "text/html": [
       "<div>\n",
       "<style>\n",
       "    .dataframe thead tr:only-child th {\n",
       "        text-align: right;\n",
       "    }\n",
       "\n",
       "    .dataframe thead th {\n",
       "        text-align: left;\n",
       "    }\n",
       "\n",
       "    .dataframe tbody tr th {\n",
       "        vertical-align: top;\n",
       "    }\n",
       "</style>\n",
       "<table border=\"1\" class=\"dataframe\">\n",
       "  <thead>\n",
       "    <tr style=\"text-align: right;\">\n",
       "      <th></th>\n",
       "      <th>uf</th>\n",
       "      <th>populacao</th>\n",
       "      <th>media_geometrica_do_pico_de_infeccao_das_temporadas_regulares</th>\n",
       "      <th>regiao_de_baixa_atividade_tipica</th>\n",
       "      <th>limiar_pre_epidemico</th>\n",
       "      <th>intensidade_alta</th>\n",
       "      <th>intensidade_muito_alta</th>\n",
       "      <th>se_tipica_do_inicio_do_surto</th>\n",
       "      <th>se_tipica_do_inicio_do_surto___ic_inferior_(2,5%)</th>\n",
       "      <th>se_tipica_do_inicio_do_surto___ic_superior_(97,5%)</th>\n",
       "      <th>duracao_tipica_do_surto</th>\n",
       "      <th>duracao_tipica_do_surto___ic_inferior_(2,5%)</th>\n",
       "      <th>duracao_tipica_do_surto___ic_superior_(97,5%)</th>\n",
       "      <th>ano</th>\n",
       "      <th>unidade_da_federacao</th>\n",
       "      <th>tipo</th>\n",
       "      <th>dado</th>\n",
       "      <th>escala</th>\n",
       "    </tr>\n",
       "  </thead>\n",
       "  <tbody>\n",
       "    <tr>\n",
       "      <th>187</th>\n",
       "      <td>BR</td>\n",
       "      <td>207660929</td>\n",
       "      <td>25.792793</td>\n",
       "      <td>0</td>\n",
       "      <td>8.389739</td>\n",
       "      <td>49.815497</td>\n",
       "      <td>96.311243</td>\n",
       "      <td>16.0</td>\n",
       "      <td>5.0</td>\n",
       "      <td>21.0</td>\n",
       "      <td>12.0</td>\n",
       "      <td>11.0</td>\n",
       "      <td>15.0</td>\n",
       "      <td>2017</td>\n",
       "      <td>Brasil</td>\n",
       "      <td>País</td>\n",
       "      <td>obitoflu</td>\n",
       "      <td>casos</td>\n",
       "    </tr>\n",
       "    <tr>\n",
       "      <th>188</th>\n",
       "      <td>RegC</td>\n",
       "      <td>27644815</td>\n",
       "      <td>3.946975</td>\n",
       "      <td>1</td>\n",
       "      <td>0.500000</td>\n",
       "      <td>4.402850</td>\n",
       "      <td>5.445506</td>\n",
       "      <td>NaN</td>\n",
       "      <td>NaN</td>\n",
       "      <td>NaN</td>\n",
       "      <td>NaN</td>\n",
       "      <td>NaN</td>\n",
       "      <td>NaN</td>\n",
       "      <td>2017</td>\n",
       "      <td>Regional Centro</td>\n",
       "      <td>Regional</td>\n",
       "      <td>obitoflu</td>\n",
       "      <td>casos</td>\n",
       "    </tr>\n",
       "    <tr>\n",
       "      <th>189</th>\n",
       "      <td>RegL</td>\n",
       "      <td>67770757</td>\n",
       "      <td>2.701016</td>\n",
       "      <td>0</td>\n",
       "      <td>1.257426</td>\n",
       "      <td>3.573874</td>\n",
       "      <td>4.528359</td>\n",
       "      <td>16.0</td>\n",
       "      <td>8.0</td>\n",
       "      <td>30.0</td>\n",
       "      <td>8.0</td>\n",
       "      <td>3.0</td>\n",
       "      <td>17.0</td>\n",
       "      <td>2017</td>\n",
       "      <td>Regional Leste</td>\n",
       "      <td>Regional</td>\n",
       "      <td>obitoflu</td>\n",
       "      <td>casos</td>\n",
       "    </tr>\n",
       "    <tr>\n",
       "      <th>190</th>\n",
       "      <td>RegN</td>\n",
       "      <td>16386007</td>\n",
       "      <td>4.121369</td>\n",
       "      <td>0</td>\n",
       "      <td>1.182767</td>\n",
       "      <td>5.704745</td>\n",
       "      <td>7.114658</td>\n",
       "      <td>12.0</td>\n",
       "      <td>2.0</td>\n",
       "      <td>16.0</td>\n",
       "      <td>8.0</td>\n",
       "      <td>1.0</td>\n",
       "      <td>11.0</td>\n",
       "      <td>2017</td>\n",
       "      <td>Regional Norte</td>\n",
       "      <td>Regional</td>\n",
       "      <td>obitoflu</td>\n",
       "      <td>casos</td>\n",
       "    </tr>\n",
       "    <tr>\n",
       "      <th>191</th>\n",
       "      <td>RegS</td>\n",
       "      <td>95859350</td>\n",
       "      <td>6.454024</td>\n",
       "      <td>0</td>\n",
       "      <td>8.889376</td>\n",
       "      <td>11.831033</td>\n",
       "      <td>16.324451</td>\n",
       "      <td>25.0</td>\n",
       "      <td>17.0</td>\n",
       "      <td>33.0</td>\n",
       "      <td>10.0</td>\n",
       "      <td>7.0</td>\n",
       "      <td>14.0</td>\n",
       "      <td>2017</td>\n",
       "      <td>Regional Sul</td>\n",
       "      <td>Regional</td>\n",
       "      <td>obitoflu</td>\n",
       "      <td>casos</td>\n",
       "    </tr>\n",
       "  </tbody>\n",
       "</table>\n",
       "</div>"
      ],
      "text/plain": [
       "       uf  populacao  \\\n",
       "187    BR  207660929   \n",
       "188  RegC   27644815   \n",
       "189  RegL   67770757   \n",
       "190  RegN   16386007   \n",
       "191  RegS   95859350   \n",
       "\n",
       "     media_geometrica_do_pico_de_infeccao_das_temporadas_regulares  \\\n",
       "187                                          25.792793               \n",
       "188                                           3.946975               \n",
       "189                                           2.701016               \n",
       "190                                           4.121369               \n",
       "191                                           6.454024               \n",
       "\n",
       "     regiao_de_baixa_atividade_tipica  limiar_pre_epidemico  intensidade_alta  \\\n",
       "187                                 0              8.389739         49.815497   \n",
       "188                                 1              0.500000          4.402850   \n",
       "189                                 0              1.257426          3.573874   \n",
       "190                                 0              1.182767          5.704745   \n",
       "191                                 0              8.889376         11.831033   \n",
       "\n",
       "     intensidade_muito_alta  se_tipica_do_inicio_do_surto  \\\n",
       "187               96.311243                          16.0   \n",
       "188                5.445506                           NaN   \n",
       "189                4.528359                          16.0   \n",
       "190                7.114658                          12.0   \n",
       "191               16.324451                          25.0   \n",
       "\n",
       "     se_tipica_do_inicio_do_surto___ic_inferior_(2,5%)  \\\n",
       "187                                                5.0   \n",
       "188                                                NaN   \n",
       "189                                                8.0   \n",
       "190                                                2.0   \n",
       "191                                               17.0   \n",
       "\n",
       "     se_tipica_do_inicio_do_surto___ic_superior_(97,5%)  \\\n",
       "187                                               21.0    \n",
       "188                                                NaN    \n",
       "189                                               30.0    \n",
       "190                                               16.0    \n",
       "191                                               33.0    \n",
       "\n",
       "     duracao_tipica_do_surto  duracao_tipica_do_surto___ic_inferior_(2,5%)  \\\n",
       "187                     12.0                                          11.0   \n",
       "188                      NaN                                           NaN   \n",
       "189                      8.0                                           3.0   \n",
       "190                      8.0                                           1.0   \n",
       "191                     10.0                                           7.0   \n",
       "\n",
       "     duracao_tipica_do_surto___ic_superior_(97,5%)   ano unidade_da_federacao  \\\n",
       "187                                           15.0  2017               Brasil   \n",
       "188                                            NaN  2017      Regional Centro   \n",
       "189                                           17.0  2017       Regional Leste   \n",
       "190                                           11.0  2017       Regional Norte   \n",
       "191                                           14.0  2017         Regional Sul   \n",
       "\n",
       "         tipo      dado escala  \n",
       "187      País  obitoflu  casos  \n",
       "188  Regional  obitoflu  casos  \n",
       "189  Regional  obitoflu  casos  \n",
       "190  Regional  obitoflu  casos  \n",
       "191  Regional  obitoflu  casos  "
      ]
     },
     "execution_count": 6,
     "metadata": {},
     "output_type": "execute_result"
    }
   ],
   "source": [
    "df_thre.tail(5)"
   ]
  },
  {
   "cell_type": "markdown",
   "metadata": {},
   "source": [
    "Entries with dfthresholds['se típica do inicio do surto'] = NaN have activity too low for proper epidemic threshold definition"
   ]
  },
  {
   "cell_type": "code",
   "execution_count": 18,
   "metadata": {
    "scrolled": false
   },
   "outputs": [],
   "source": [
    "k = ['epiyear', 'epiweek', 'base_epiyear', 'base_epiweek']\n",
    "df_inci2017 = df_inci[\n",
    "    (df_inci.epiyear == 2017) &\n",
    "    # (df_inci.epiweek >= 15) &\n",
    "    (df_inci.dado == 'srag') &\n",
    "    (df_inci.escala == 'incidência') & \n",
    "    (df_inci.uf == 'BR')\n",
    "].copy()\n",
    "\n",
    "df_inci2017.sort_values(['epiyear', 'epiweek'], inplace=True)\n",
    "df_inci_chart = df_inci2017.copy()\n",
    "df_inci_chart.index = df_inci_chart.epiweek"
   ]
  },
  {
   "cell_type": "code",
   "execution_count": 19,
   "metadata": {},
   "outputs": [],
   "source": [
    "k = ['epiyear', 'epiweek', 'base_epiyear', 'base_epiweek']\n",
    "df_hist2017 = df_hist[\n",
    "    (df_hist.base_epiyear == 2017) &\n",
    "    (df_hist.base_epiweek == 23) &\n",
    "    (df_hist.dado == 'srag') &\n",
    "    (df_hist.escala == 'incidência') & \n",
    "    (df_hist.uf == 'BR')\n",
    "].copy()\n",
    "\n",
    "df_hist2017.sort_values(['epiyear', 'epiweek'], inplace=True)\n",
    "\n",
    "df_hist_chart = df_hist2017.copy()\n",
    "df_hist_chart.index = df_hist_chart.epiweek"
   ]
  },
  {
   "cell_type": "code",
   "execution_count": 20,
   "metadata": {},
   "outputs": [
    {
     "data": {
      "image/png": "[encoded data removed]",
      "text/plain": [
       "<matplotlib.figure.Figure at 0x7f3a86c1d6d8>"
      ]
     },
     "metadata": {},
     "output_type": "display_data"
    },
    {
     "data": {
      "image/png": "[encoded data removed]",
      "text/plain": [
       "<matplotlib.figure.Figure at 0x7f3a86ea2eb8>"
      ]
     },
     "metadata": {},
     "output_type": "display_data"
    }
   ],
   "source": [
    "# 50% estimated cases\n",
    "\n",
    "df_inci_chart[['srag', '50%', '2.5%', '97.5%']].plot()\n",
    "plt.title('Incidence')\n",
    "plt.grid(True)\n",
    "plt.show()\n",
    "\n",
    "df_hist_chart[['srag', '50%', '2.5%', '97.5%']].plot()\n",
    "plt.title('Historial')\n",
    "plt.grid(True)\n",
    "\n",
    "plt.show()"
   ]
  },
  {
   "cell_type": "code",
   "execution_count": 21,
   "metadata": {},
   "outputs": [
    {
     "data": {
      "image/png": "[encoded data removed]",
      "text/plain": [
       "<matplotlib.figure.Figure at 0x7f3a86af6dd8>"
      ]
     },
     "metadata": {},
     "output_type": "display_data"
    }
   ],
   "source": [
    "df_hist2017['estimated_cases'] = df_hist2017['50%']\n",
    "\n",
    "df = pd.merge(\n",
    "    df_inci2017[['epiweek', 'srag', '2.5%', '97.5%']], \n",
    "    df_hist2017[['epiweek', 'estimated_cases']], \n",
    "    on='epiweek', how='outer'\n",
    ")\n",
    "\n",
    "df.set_index('epiweek', inplace=True)\n",
    "\n",
    "df.plot()\n",
    "plt.grid(True)\n",
    "plt.title('Incidence X Historial')\n",
    "plt.show()"
   ]
  },
  {
   "cell_type": "markdown",
   "metadata": {},
   "source": [
    "## Displaying data for user selected week w<a name=\"_historical data display\"></a>"
   ]
  },
  {
   "cell_type": "markdown",
   "metadata": {},
   "source": [
    "For each week w selected by the user, the notification curve will always be that which is found on df_inci, while the estimates will be that stored in df_hist. Data df_inci only has the most recent estimates, which are based on the most recent week with data. The estimates obtained at each week is stored at df_hist.\n",
    "\n",
    "So, first of all, we will slice the historical data to week w, and limit current data to week <= w.\n",
    "If w=23, the historical dataset is already correctly sliced in df_hist2017, so we just have to limit the current for the proper plot:"
   ]
  },
  {
   "cell_type": "code",
   "execution_count": 22,
   "metadata": {},
   "outputs": [
    {
     "data": {
      "text/plain": [
       "array([23, 24, 25, 26, 27, 28, 29, 30, 31, 33])"
      ]
     },
     "execution_count": 22,
     "metadata": {},
     "output_type": "execute_result"
    }
   ],
   "source": [
    "df_hist[\n",
    "        (df_hist.base_epiyear == 2017) &\n",
    "        (df_hist.dado == 'srag') &\n",
    "        (df_hist.escala == 'incidência') & \n",
    "        (df_hist.uf == 'BR')\n",
    "        ].base_epiweek.unique()"
   ]
  },
  {
   "cell_type": "code",
   "execution_count": 23,
   "metadata": {},
   "outputs": [
    {
     "data": {
      "image/png": "[encoded data removed]",
      "text/plain": [
       "<matplotlib.figure.Figure at 0x7f3a86a71668>"
      ]
     },
     "metadata": {},
     "output_type": "display_data"
    }
   ],
   "source": [
    "# First, last keep only stable weeksfor notification curve:\n",
    "df_inci2017.loc[(df_inci2017.situation != 'stable'), 'srag'] = np.nan\n",
    "\n",
    "# Adapt historical dataset:\n",
    "df_hist.sort_values(['epiyear', 'epiweek'], inplace=True)\n",
    "df_hist['estimated_cases'] = df_hist['50%']\n",
    "\n",
    "# User selected week:\n",
    "y = 2017\n",
    "w = 23\n",
    "\n",
    "def week_data(y, w):\n",
    "    df_week_inci = df_inci2017[(df_inci2017.epiweek <= w)]\n",
    "\n",
    "    df_week_hist = df_hist[\n",
    "        (df_hist.base_epiyear == y) &\n",
    "        (df_hist.base_epiweek == w) &\n",
    "        (df_hist.dado == 'srag') &\n",
    "        (df_hist.escala == 'incidência') & \n",
    "        (df_hist.uf == 'BR')\n",
    "    ].copy()\n",
    "\n",
    "    df = pd.merge(\n",
    "        df_week_inci[['epiweek', 'srag']], \n",
    "        df_week_hist[['epiweek', 'estimated_cases', '2.5%', '97.5%']], \n",
    "        on='epiweek', how='outer'\n",
    "    )\n",
    "\n",
    "    df.set_index('epiweek', inplace=True)\n",
    "    return df\n",
    "\n",
    "df = week_data(y, w)\n",
    "df.plot()\n",
    "plt.grid(True)\n",
    "plt.show()\n",
    "\n"
   ]
  },
  {
   "cell_type": "code",
   "execution_count": 13,
   "metadata": {},
   "outputs": [
    {
     "data": {
      "image/png": "[encoded data removed]",
      "text/plain": [
       "<matplotlib.figure.Figure at 0x7f3a86d50208>"
      ]
     },
     "metadata": {},
     "output_type": "display_data"
    }
   ],
   "source": [
    "w = 28\n",
    "df = week_data(y, w)\n",
    "df.plot()\n",
    "plt.grid(True)\n",
    "plt.show()"
   ]
  },
  {
   "cell_type": "code",
   "execution_count": 14,
   "metadata": {},
   "outputs": [
    {
     "data": {
      "image/png": "[encoded data removed]",
      "text/plain": [
       "<matplotlib.figure.Figure at 0x7f3a88f02128>"
      ]
     },
     "metadata": {},
     "output_type": "display_data"
    }
   ],
   "source": [
    "w = 33\n",
    "df = week_data(y, w)\n",
    "df.plot()\n",
    "plt.grid(True)\n",
    "plt.show()"
   ]
  }
 ],
 "metadata": {
  "kernelspec": {
   "display_name": "Python 3",
   "language": "python",
   "name": "python3"
  },
  "language_info": {
   "codemirror_mode": {
    "name": "ipython",
    "version": 3
   },
   "file_extension": ".py",
   "mimetype": "text/x-python",
   "name": "python",
   "nbconvert_exporter": "python",
   "pygments_lexer": "ipython3",
   "version": "3.6.2"
  },
  "latex_envs": {
   "bibliofile": "biblio.bib",
   "cite_by": "apalike",
   "current_citInitial": 1,
   "eqLabelWithNumbers": true,
   "eqNumInitial": 0
  },
  "toc": {
   "nav_menu": {
    "height": "305px",
    "width": "252px"
   },
   "navigate_menu": true,
   "number_sections": true,
   "sideBar": true,
   "threshold": 4,
   "toc_cell": true,
   "toc_section_display": "block",
   "toc_window_display": true
  }
 },
 "nbformat": 4,
 "nbformat_minor": 1
}
